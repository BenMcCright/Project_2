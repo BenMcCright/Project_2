{
 "cells": [
  {
   "cell_type": "code",
   "execution_count": 176,
   "metadata": {},
   "outputs": [],
   "source": [
    "import pandas as pd\n",
    "import numpy as np\n",
    "import statsmodels.api as sm\n",
    "from sklearn.linear_model import LinearRegression\n",
    "import matplotlib.pyplot as plt\n",
    "import sys\n",
    "import scipy as sp\n",
    "import statsmodels as sm\n",
    "import matplotlib.pyplot as plt\n",
    "import seaborn as sns\n",
    "from statsmodels.stats.proportion import proportions_ztest\n",
    "%matplotlib inline"
   ]
  },
  {
   "cell_type": "code",
   "execution_count": 177,
   "metadata": {
    "scrolled": true
   },
   "outputs": [],
   "source": [
    "sales_df=pd.read_csv(\"sales_promo_data.csv\", parse_dates=True)"
   ]
  },
  {
   "cell_type": "code",
   "execution_count": 178,
   "metadata": {
    "scrolled": true
   },
   "outputs": [
    {
     "data": {
      "text/html": [
       "<div>\n",
       "<style scoped>\n",
       "    .dataframe tbody tr th:only-of-type {\n",
       "        vertical-align: middle;\n",
       "    }\n",
       "\n",
       "    .dataframe tbody tr th {\n",
       "        vertical-align: top;\n",
       "    }\n",
       "\n",
       "    .dataframe thead th {\n",
       "        text-align: right;\n",
       "    }\n",
       "</style>\n",
       "<table border=\"1\" class=\"dataframe\">\n",
       "  <thead>\n",
       "    <tr style=\"text-align: right;\">\n",
       "      <th></th>\n",
       "      <th>Category</th>\n",
       "      <th>5-Jan-19</th>\n",
       "      <th>12-Jan-19</th>\n",
       "      <th>19-Jan-19</th>\n",
       "      <th>26-Jan-19</th>\n",
       "      <th>2-Feb-19</th>\n",
       "      <th>9-Feb-19</th>\n",
       "      <th>16-Feb-19</th>\n",
       "      <th>23-Feb-19</th>\n",
       "      <th>2-Mar-19</th>\n",
       "      <th>...</th>\n",
       "      <th>19-Apr-21</th>\n",
       "      <th>26-Apr-21</th>\n",
       "      <th>3-May-21</th>\n",
       "      <th>10-May-21</th>\n",
       "      <th>17-May-21</th>\n",
       "      <th>24-May-21</th>\n",
       "      <th>31-May-21</th>\n",
       "      <th>7-Jun-21</th>\n",
       "      <th>14-Jun-21</th>\n",
       "      <th>21-Jun-21</th>\n",
       "    </tr>\n",
       "  </thead>\n",
       "  <tbody>\n",
       "    <tr>\n",
       "      <th>0</th>\n",
       "      <td>Acne</td>\n",
       "      <td>14969813.0</td>\n",
       "      <td>15488855.0</td>\n",
       "      <td>15522357.0</td>\n",
       "      <td>15054219.0</td>\n",
       "      <td>14585357.0</td>\n",
       "      <td>14753443.0</td>\n",
       "      <td>14809032.0</td>\n",
       "      <td>15195875.0</td>\n",
       "      <td>16148805.0</td>\n",
       "      <td>...</td>\n",
       "      <td>6804803.45</td>\n",
       "      <td>6338797.51</td>\n",
       "      <td>6221003.71</td>\n",
       "      <td>6161488.20</td>\n",
       "      <td>6484463.04</td>\n",
       "      <td>6622980.76</td>\n",
       "      <td>6564619.3</td>\n",
       "      <td>6727304.43</td>\n",
       "      <td>6976630.14</td>\n",
       "      <td>6852588.56</td>\n",
       "    </tr>\n",
       "    <tr>\n",
       "      <th>1</th>\n",
       "      <td>acne_promo</td>\n",
       "      <td>0.0</td>\n",
       "      <td>0.0</td>\n",
       "      <td>0.0</td>\n",
       "      <td>0.0</td>\n",
       "      <td>0.0</td>\n",
       "      <td>0.0</td>\n",
       "      <td>0.0</td>\n",
       "      <td>0.0</td>\n",
       "      <td>0.0</td>\n",
       "      <td>...</td>\n",
       "      <td>0.00</td>\n",
       "      <td>0.00</td>\n",
       "      <td>0.00</td>\n",
       "      <td>0.00</td>\n",
       "      <td>0.00</td>\n",
       "      <td>0.00</td>\n",
       "      <td>0.0</td>\n",
       "      <td>0.00</td>\n",
       "      <td>0.00</td>\n",
       "      <td>0.00</td>\n",
       "    </tr>\n",
       "    <tr>\n",
       "      <th>2</th>\n",
       "      <td>Baby</td>\n",
       "      <td>1417338.0</td>\n",
       "      <td>1515492.0</td>\n",
       "      <td>1562793.0</td>\n",
       "      <td>1555259.0</td>\n",
       "      <td>1638797.0</td>\n",
       "      <td>1531476.0</td>\n",
       "      <td>1454065.0</td>\n",
       "      <td>1658709.0</td>\n",
       "      <td>1854319.0</td>\n",
       "      <td>...</td>\n",
       "      <td>164551.25</td>\n",
       "      <td>135085.59</td>\n",
       "      <td>133168.42</td>\n",
       "      <td>131380.27</td>\n",
       "      <td>151697.29</td>\n",
       "      <td>135258.65</td>\n",
       "      <td>131589.5</td>\n",
       "      <td>143072.75</td>\n",
       "      <td>155263.75</td>\n",
       "      <td>132207.15</td>\n",
       "    </tr>\n",
       "    <tr>\n",
       "      <th>3</th>\n",
       "      <td>baby_promo</td>\n",
       "      <td>0.0</td>\n",
       "      <td>0.0</td>\n",
       "      <td>0.0</td>\n",
       "      <td>0.0</td>\n",
       "      <td>0.0</td>\n",
       "      <td>0.0</td>\n",
       "      <td>0.0</td>\n",
       "      <td>0.0</td>\n",
       "      <td>0.0</td>\n",
       "      <td>...</td>\n",
       "      <td>0.00</td>\n",
       "      <td>0.00</td>\n",
       "      <td>0.00</td>\n",
       "      <td>0.00</td>\n",
       "      <td>0.00</td>\n",
       "      <td>0.00</td>\n",
       "      <td>0.0</td>\n",
       "      <td>0.00</td>\n",
       "      <td>0.00</td>\n",
       "      <td>0.00</td>\n",
       "    </tr>\n",
       "    <tr>\n",
       "      <th>4</th>\n",
       "      <td>Bath</td>\n",
       "      <td>55558.0</td>\n",
       "      <td>59528.0</td>\n",
       "      <td>56189.0</td>\n",
       "      <td>56073.0</td>\n",
       "      <td>60760.0</td>\n",
       "      <td>61017.0</td>\n",
       "      <td>60160.0</td>\n",
       "      <td>67015.0</td>\n",
       "      <td>74080.0</td>\n",
       "      <td>...</td>\n",
       "      <td>0.00</td>\n",
       "      <td>0.00</td>\n",
       "      <td>0.00</td>\n",
       "      <td>0.00</td>\n",
       "      <td>0.00</td>\n",
       "      <td>0.00</td>\n",
       "      <td>0.0</td>\n",
       "      <td>0.00</td>\n",
       "      <td>0.00</td>\n",
       "      <td>0.00</td>\n",
       "    </tr>\n",
       "  </tbody>\n",
       "</table>\n",
       "<p>5 rows × 113 columns</p>\n",
       "</div>"
      ],
      "text/plain": [
       "     Category    5-Jan-19   12-Jan-19   19-Jan-19   26-Jan-19    2-Feb-19  \\\n",
       "0        Acne  14969813.0  15488855.0  15522357.0  15054219.0  14585357.0   \n",
       "1  acne_promo         0.0         0.0         0.0         0.0         0.0   \n",
       "2        Baby   1417338.0   1515492.0   1562793.0   1555259.0   1638797.0   \n",
       "3  baby_promo         0.0         0.0         0.0         0.0         0.0   \n",
       "4        Bath     55558.0     59528.0     56189.0     56073.0     60760.0   \n",
       "\n",
       "     9-Feb-19   16-Feb-19   23-Feb-19    2-Mar-19  ...   19-Apr-21  \\\n",
       "0  14753443.0  14809032.0  15195875.0  16148805.0  ...  6804803.45   \n",
       "1         0.0         0.0         0.0         0.0  ...        0.00   \n",
       "2   1531476.0   1454065.0   1658709.0   1854319.0  ...   164551.25   \n",
       "3         0.0         0.0         0.0         0.0  ...        0.00   \n",
       "4     61017.0     60160.0     67015.0     74080.0  ...        0.00   \n",
       "\n",
       "    26-Apr-21    3-May-21   10-May-21   17-May-21   24-May-21  31-May-21  \\\n",
       "0  6338797.51  6221003.71  6161488.20  6484463.04  6622980.76  6564619.3   \n",
       "1        0.00        0.00        0.00        0.00        0.00        0.0   \n",
       "2   135085.59   133168.42   131380.27   151697.29   135258.65   131589.5   \n",
       "3        0.00        0.00        0.00        0.00        0.00        0.0   \n",
       "4        0.00        0.00        0.00        0.00        0.00        0.0   \n",
       "\n",
       "     7-Jun-21   14-Jun-21   21-Jun-21  \n",
       "0  6727304.43  6976630.14  6852588.56  \n",
       "1        0.00        0.00        0.00  \n",
       "2   143072.75   155263.75   132207.15  \n",
       "3        0.00        0.00        0.00  \n",
       "4        0.00        0.00        0.00  \n",
       "\n",
       "[5 rows x 113 columns]"
      ]
     },
     "execution_count": 178,
     "metadata": {},
     "output_type": "execute_result"
    }
   ],
   "source": [
    "sales_df.head()"
   ]
  },
  {
   "cell_type": "code",
   "execution_count": 179,
   "metadata": {
    "scrolled": false
   },
   "outputs": [],
   "source": [
    "sales_df=sales_df.rename(columns={\"Category\":\"Date\"})"
   ]
  },
  {
   "cell_type": "code",
   "execution_count": 180,
   "metadata": {},
   "outputs": [],
   "source": [
    "sales_df.index = pd.to_datetime(sales_df.index)"
   ]
  },
  {
   "cell_type": "code",
   "execution_count": 181,
   "metadata": {},
   "outputs": [],
   "source": [
    "sales_df=sales_df.T"
   ]
  },
  {
   "cell_type": "code",
   "execution_count": 182,
   "metadata": {},
   "outputs": [],
   "source": [
    "sales_df.columns= sales_df.iloc[0]"
   ]
  },
  {
   "cell_type": "code",
   "execution_count": 183,
   "metadata": {},
   "outputs": [
    {
     "data": {
      "text/html": [
       "<div>\n",
       "<style scoped>\n",
       "    .dataframe tbody tr th:only-of-type {\n",
       "        vertical-align: middle;\n",
       "    }\n",
       "\n",
       "    .dataframe tbody tr th {\n",
       "        vertical-align: top;\n",
       "    }\n",
       "\n",
       "    .dataframe thead th {\n",
       "        text-align: right;\n",
       "    }\n",
       "</style>\n",
       "<table border=\"1\" class=\"dataframe\">\n",
       "  <thead>\n",
       "    <tr style=\"text-align: right;\">\n",
       "      <th>Date</th>\n",
       "      <th>Acne</th>\n",
       "      <th>acne_promo</th>\n",
       "      <th>Baby</th>\n",
       "      <th>baby_promo</th>\n",
       "      <th>Bath</th>\n",
       "      <th>bath_promo</th>\n",
       "      <th>Body Wash</th>\n",
       "      <th>body_promo</th>\n",
       "      <th>Hair</th>\n",
       "      <th>hair_promo</th>\n",
       "      <th>Lotion</th>\n",
       "      <th>lotion_promo</th>\n",
       "      <th>Makeup</th>\n",
       "      <th>makeup_promo</th>\n",
       "      <th>Shaving</th>\n",
       "      <th>shaving_promo</th>\n",
       "      <th>Sunscreen</th>\n",
       "      <th>sunscreen_promo</th>\n",
       "      <th>Tanner</th>\n",
       "      <th>tanner_promo</th>\n",
       "    </tr>\n",
       "  </thead>\n",
       "  <tbody>\n",
       "    <tr>\n",
       "      <th>5-Jan-19</th>\n",
       "      <td>1.49698e+07</td>\n",
       "      <td>0</td>\n",
       "      <td>1.41734e+06</td>\n",
       "      <td>0</td>\n",
       "      <td>55558</td>\n",
       "      <td>0</td>\n",
       "      <td>1.49122e+06</td>\n",
       "      <td>0</td>\n",
       "      <td>929666</td>\n",
       "      <td>0</td>\n",
       "      <td>3.22783e+06</td>\n",
       "      <td>0</td>\n",
       "      <td>7.15666e+06</td>\n",
       "      <td>0</td>\n",
       "      <td>273010</td>\n",
       "      <td>0</td>\n",
       "      <td>1.66175e+06</td>\n",
       "      <td>0</td>\n",
       "      <td>84682</td>\n",
       "      <td>0</td>\n",
       "    </tr>\n",
       "    <tr>\n",
       "      <th>12-Jan-19</th>\n",
       "      <td>1.54889e+07</td>\n",
       "      <td>0</td>\n",
       "      <td>1.51549e+06</td>\n",
       "      <td>0</td>\n",
       "      <td>59528</td>\n",
       "      <td>0</td>\n",
       "      <td>1.59943e+06</td>\n",
       "      <td>0</td>\n",
       "      <td>1.04239e+06</td>\n",
       "      <td>0</td>\n",
       "      <td>3.55188e+06</td>\n",
       "      <td>0</td>\n",
       "      <td>7.18866e+06</td>\n",
       "      <td>0</td>\n",
       "      <td>283501</td>\n",
       "      <td>0</td>\n",
       "      <td>1.43475e+06</td>\n",
       "      <td>0</td>\n",
       "      <td>78632</td>\n",
       "      <td>0</td>\n",
       "    </tr>\n",
       "    <tr>\n",
       "      <th>19-Jan-19</th>\n",
       "      <td>1.55224e+07</td>\n",
       "      <td>0</td>\n",
       "      <td>1.56279e+06</td>\n",
       "      <td>0</td>\n",
       "      <td>56189</td>\n",
       "      <td>0</td>\n",
       "      <td>1.40911e+06</td>\n",
       "      <td>0</td>\n",
       "      <td>1.04888e+06</td>\n",
       "      <td>0</td>\n",
       "      <td>3.43581e+06</td>\n",
       "      <td>0</td>\n",
       "      <td>7.17324e+06</td>\n",
       "      <td>0</td>\n",
       "      <td>266646</td>\n",
       "      <td>0</td>\n",
       "      <td>1.42346e+06</td>\n",
       "      <td>0</td>\n",
       "      <td>81813</td>\n",
       "      <td>0</td>\n",
       "    </tr>\n",
       "    <tr>\n",
       "      <th>26-Jan-19</th>\n",
       "      <td>1.50542e+07</td>\n",
       "      <td>0</td>\n",
       "      <td>1.55526e+06</td>\n",
       "      <td>0</td>\n",
       "      <td>56073</td>\n",
       "      <td>0</td>\n",
       "      <td>1.38705e+06</td>\n",
       "      <td>0</td>\n",
       "      <td>1.10439e+06</td>\n",
       "      <td>0</td>\n",
       "      <td>3.40686e+06</td>\n",
       "      <td>0</td>\n",
       "      <td>6.85142e+06</td>\n",
       "      <td>0</td>\n",
       "      <td>264479</td>\n",
       "      <td>0</td>\n",
       "      <td>1.36637e+06</td>\n",
       "      <td>0</td>\n",
       "      <td>82477</td>\n",
       "      <td>0</td>\n",
       "    </tr>\n",
       "    <tr>\n",
       "      <th>2-Feb-19</th>\n",
       "      <td>1.45854e+07</td>\n",
       "      <td>0</td>\n",
       "      <td>1.6388e+06</td>\n",
       "      <td>0</td>\n",
       "      <td>60760</td>\n",
       "      <td>0</td>\n",
       "      <td>1.47958e+06</td>\n",
       "      <td>0</td>\n",
       "      <td>1.23534e+06</td>\n",
       "      <td>0</td>\n",
       "      <td>3.75449e+06</td>\n",
       "      <td>0</td>\n",
       "      <td>6.74574e+06</td>\n",
       "      <td>0</td>\n",
       "      <td>265783</td>\n",
       "      <td>0</td>\n",
       "      <td>1.49604e+06</td>\n",
       "      <td>0</td>\n",
       "      <td>89832</td>\n",
       "      <td>0</td>\n",
       "    </tr>\n",
       "  </tbody>\n",
       "</table>\n",
       "</div>"
      ],
      "text/plain": [
       "Date              Acne acne_promo         Baby baby_promo   Bath bath_promo  \\\n",
       "5-Jan-19   1.49698e+07          0  1.41734e+06          0  55558          0   \n",
       "12-Jan-19  1.54889e+07          0  1.51549e+06          0  59528          0   \n",
       "19-Jan-19  1.55224e+07          0  1.56279e+06          0  56189          0   \n",
       "26-Jan-19  1.50542e+07          0  1.55526e+06          0  56073          0   \n",
       "2-Feb-19   1.45854e+07          0   1.6388e+06          0  60760          0   \n",
       "\n",
       "Date         Body Wash body_promo         Hair hair_promo       Lotion  \\\n",
       "5-Jan-19   1.49122e+06          0       929666          0  3.22783e+06   \n",
       "12-Jan-19  1.59943e+06          0  1.04239e+06          0  3.55188e+06   \n",
       "19-Jan-19  1.40911e+06          0  1.04888e+06          0  3.43581e+06   \n",
       "26-Jan-19  1.38705e+06          0  1.10439e+06          0  3.40686e+06   \n",
       "2-Feb-19   1.47958e+06          0  1.23534e+06          0  3.75449e+06   \n",
       "\n",
       "Date      lotion_promo       Makeup makeup_promo Shaving shaving_promo  \\\n",
       "5-Jan-19             0  7.15666e+06            0  273010             0   \n",
       "12-Jan-19            0  7.18866e+06            0  283501             0   \n",
       "19-Jan-19            0  7.17324e+06            0  266646             0   \n",
       "26-Jan-19            0  6.85142e+06            0  264479             0   \n",
       "2-Feb-19             0  6.74574e+06            0  265783             0   \n",
       "\n",
       "Date         Sunscreen sunscreen_promo Tanner tanner_promo  \n",
       "5-Jan-19   1.66175e+06               0  84682            0  \n",
       "12-Jan-19  1.43475e+06               0  78632            0  \n",
       "19-Jan-19  1.42346e+06               0  81813            0  \n",
       "26-Jan-19  1.36637e+06               0  82477            0  \n",
       "2-Feb-19   1.49604e+06               0  89832            0  "
      ]
     },
     "execution_count": 183,
     "metadata": {},
     "output_type": "execute_result"
    }
   ],
   "source": [
    "sales_df=sales_df.iloc[1:,:]\n",
    "sales_df.head()"
   ]
  },
  {
   "cell_type": "code",
   "execution_count": 184,
   "metadata": {},
   "outputs": [],
   "source": [
    "sales_df.index = pd.to_datetime(sales_df.index)"
   ]
  },
  {
   "cell_type": "code",
   "execution_count": 185,
   "metadata": {},
   "outputs": [],
   "source": [
    "acne_df= sales_df[[\"Acne\",\"acne_promo\"]]\n",
    "baby_df= sales_df[[\"Baby\",\"baby_promo\"]]\n",
    "bath_df= sales_df[[\"Bath\",\"bath_promo\"]]\n",
    "body_df= sales_df[[\"Body Wash\",\"body_promo\"]]\n",
    "hair_df= sales_df[[\"Hair\",\"hair_promo\"]]\n",
    "lotion_df= sales_df[[\"Lotion\",\"lotion_promo\"]]\n",
    "makeup_df= sales_df[[\"Makeup\",\"makeup_promo\"]]\n",
    "shaving_df= sales_df[[\"Shaving\",\"shaving_promo\"]]\n",
    "sunscreen_df= sales_df[[\"Sunscreen\",\"sunscreen_promo\"]]\n",
    "tanner_df= sales_df[[\"Tanner\",\"tanner_promo\"]]"
   ]
  },
  {
   "cell_type": "code",
   "execution_count": 186,
   "metadata": {
    "scrolled": true
   },
   "outputs": [
    {
     "data": {
      "text/html": [
       "<div>\n",
       "<style scoped>\n",
       "    .dataframe tbody tr th:only-of-type {\n",
       "        vertical-align: middle;\n",
       "    }\n",
       "\n",
       "    .dataframe tbody tr th {\n",
       "        vertical-align: top;\n",
       "    }\n",
       "\n",
       "    .dataframe thead th {\n",
       "        text-align: right;\n",
       "    }\n",
       "</style>\n",
       "<table border=\"1\" class=\"dataframe\">\n",
       "  <thead>\n",
       "    <tr style=\"text-align: right;\">\n",
       "      <th>Date</th>\n",
       "      <th>Acne</th>\n",
       "      <th>acne_promo</th>\n",
       "    </tr>\n",
       "  </thead>\n",
       "  <tbody>\n",
       "    <tr>\n",
       "      <th>2019-01-05</th>\n",
       "      <td>1.49698e+07</td>\n",
       "      <td>0</td>\n",
       "    </tr>\n",
       "    <tr>\n",
       "      <th>2019-01-12</th>\n",
       "      <td>1.54889e+07</td>\n",
       "      <td>0</td>\n",
       "    </tr>\n",
       "    <tr>\n",
       "      <th>2019-01-19</th>\n",
       "      <td>1.55224e+07</td>\n",
       "      <td>0</td>\n",
       "    </tr>\n",
       "    <tr>\n",
       "      <th>2019-01-26</th>\n",
       "      <td>1.50542e+07</td>\n",
       "      <td>0</td>\n",
       "    </tr>\n",
       "    <tr>\n",
       "      <th>2019-02-02</th>\n",
       "      <td>1.45854e+07</td>\n",
       "      <td>0</td>\n",
       "    </tr>\n",
       "    <tr>\n",
       "      <th>...</th>\n",
       "      <td>...</td>\n",
       "      <td>...</td>\n",
       "    </tr>\n",
       "    <tr>\n",
       "      <th>2021-05-24</th>\n",
       "      <td>6.62298e+06</td>\n",
       "      <td>0</td>\n",
       "    </tr>\n",
       "    <tr>\n",
       "      <th>2021-05-31</th>\n",
       "      <td>6.56462e+06</td>\n",
       "      <td>0</td>\n",
       "    </tr>\n",
       "    <tr>\n",
       "      <th>2021-06-07</th>\n",
       "      <td>6.7273e+06</td>\n",
       "      <td>0</td>\n",
       "    </tr>\n",
       "    <tr>\n",
       "      <th>2021-06-14</th>\n",
       "      <td>6.97663e+06</td>\n",
       "      <td>0</td>\n",
       "    </tr>\n",
       "    <tr>\n",
       "      <th>2021-06-21</th>\n",
       "      <td>6.85259e+06</td>\n",
       "      <td>0</td>\n",
       "    </tr>\n",
       "  </tbody>\n",
       "</table>\n",
       "<p>112 rows × 2 columns</p>\n",
       "</div>"
      ],
      "text/plain": [
       "Date               Acne acne_promo\n",
       "2019-01-05  1.49698e+07          0\n",
       "2019-01-12  1.54889e+07          0\n",
       "2019-01-19  1.55224e+07          0\n",
       "2019-01-26  1.50542e+07          0\n",
       "2019-02-02  1.45854e+07          0\n",
       "...                 ...        ...\n",
       "2021-05-24  6.62298e+06          0\n",
       "2021-05-31  6.56462e+06          0\n",
       "2021-06-07   6.7273e+06          0\n",
       "2021-06-14  6.97663e+06          0\n",
       "2021-06-21  6.85259e+06          0\n",
       "\n",
       "[112 rows x 2 columns]"
      ]
     },
     "execution_count": 186,
     "metadata": {},
     "output_type": "execute_result"
    }
   ],
   "source": [
    "acne_df"
   ]
  },
  {
   "cell_type": "code",
   "execution_count": 187,
   "metadata": {},
   "outputs": [
    {
     "data": {
      "text/plain": [
       "Date\n",
       "Acne          object\n",
       "acne_promo    object\n",
       "dtype: object"
      ]
     },
     "execution_count": 187,
     "metadata": {},
     "output_type": "execute_result"
    }
   ],
   "source": [
    "acne_df.dtypes"
   ]
  },
  {
   "cell_type": "code",
   "execution_count": 188,
   "metadata": {
    "scrolled": true
   },
   "outputs": [
    {
     "data": {
      "text/plain": [
       "<AxesSubplot:>"
      ]
     },
     "execution_count": 188,
     "metadata": {},
     "output_type": "execute_result"
    },
    {
     "data": {
      "image/png": "[encoded data removed]",
      "text/plain": [
       "<Figure size 432x288 with 1 Axes>"
      ]
     },
     "metadata": {
      "needs_background": "light"
     },
     "output_type": "display_data"
    }
   ],
   "source": [
    "acne_df.plot()"
   ]
  },
  {
   "cell_type": "code",
   "execution_count": 155,
   "metadata": {},
   "outputs": [],
   "source": [
    "X = acne_df['Acne'].to_frame()"
   ]
  },
  {
   "cell_type": "code",
   "execution_count": 156,
   "metadata": {},
   "outputs": [],
   "source": [
    "# X = acne_df[\"Acne\"].loc[\"2019 jan\": \"2019 dec\"].to_frame() "
   ]
  },
  {
   "cell_type": "code",
   "execution_count": 157,
   "metadata": {},
   "outputs": [],
   "source": [
    "# In this example, we want to use the week of the year to predict the sales"
   ]
  },
  {
   "cell_type": "code",
   "execution_count": 158,
   "metadata": {},
   "outputs": [
    {
     "name": "stderr",
     "output_type": "stream",
     "text": [
      "C:\\Users\\Dev\\Anaconda3\\envs\\pyviz\\lib\\site-packages\\ipykernel_launcher.py:2: FutureWarning: weekofyear and week have been deprecated, please use DatetimeIndex.isocalendar().week instead, which returns a Series.  To exactly reproduce the behavior of week and weekofyear and return an Index, you may call pd.Int64Index(idx.isocalendar().week)\n",
      "  \n"
     ]
    },
    {
     "data": {
      "text/html": [
       "<div>\n",
       "<style scoped>\n",
       "    .dataframe tbody tr th:only-of-type {\n",
       "        vertical-align: middle;\n",
       "    }\n",
       "\n",
       "    .dataframe tbody tr th {\n",
       "        vertical-align: top;\n",
       "    }\n",
       "\n",
       "    .dataframe thead th {\n",
       "        text-align: right;\n",
       "    }\n",
       "</style>\n",
       "<table border=\"1\" class=\"dataframe\">\n",
       "  <thead>\n",
       "    <tr style=\"text-align: right;\">\n",
       "      <th></th>\n",
       "      <th>Acne</th>\n",
       "      <th>Week_of_Year</th>\n",
       "    </tr>\n",
       "  </thead>\n",
       "  <tbody>\n",
       "    <tr>\n",
       "      <th>2019-01-05</th>\n",
       "      <td>1.49698e+07</td>\n",
       "      <td>1</td>\n",
       "    </tr>\n",
       "    <tr>\n",
       "      <th>2019-01-12</th>\n",
       "      <td>1.54889e+07</td>\n",
       "      <td>2</td>\n",
       "    </tr>\n",
       "    <tr>\n",
       "      <th>2019-01-19</th>\n",
       "      <td>1.55224e+07</td>\n",
       "      <td>3</td>\n",
       "    </tr>\n",
       "    <tr>\n",
       "      <th>2019-01-26</th>\n",
       "      <td>1.50542e+07</td>\n",
       "      <td>4</td>\n",
       "    </tr>\n",
       "    <tr>\n",
       "      <th>2019-02-02</th>\n",
       "      <td>1.45854e+07</td>\n",
       "      <td>5</td>\n",
       "    </tr>\n",
       "  </tbody>\n",
       "</table>\n",
       "</div>"
      ],
      "text/plain": [
       "                   Acne  Week_of_Year\n",
       "2019-01-05  1.49698e+07             1\n",
       "2019-01-12  1.54889e+07             2\n",
       "2019-01-19  1.55224e+07             3\n",
       "2019-01-26  1.50542e+07             4\n",
       "2019-02-02  1.45854e+07             5"
      ]
     },
     "execution_count": 158,
     "metadata": {},
     "output_type": "execute_result"
    }
   ],
   "source": [
    "# Generate a column with the week of the year\n",
    "X['Week_of_Year'] = X.index.weekofyear\n",
    "X.head()\n"
   ]
  },
  {
   "cell_type": "code",
   "execution_count": 159,
   "metadata": {},
   "outputs": [
    {
     "data": {
      "text/plain": [
       "<AxesSubplot:xlabel='Week_of_Year', ylabel='Acne'>"
      ]
     },
     "execution_count": 159,
     "metadata": {},
     "output_type": "execute_result"
    },
    {
     "data": {
      "image/png": "[encoded data removed]",
      "text/plain": [
       "<Figure size 432x288 with 1 Axes>"
      ]
     },
     "metadata": {
      "needs_background": "light"
     },
     "output_type": "display_data"
    }
   ],
   "source": [
    "X.plot(x= \"Week_of_Year\", y=\"Acne\", kind=\"scatter\")"
   ]
  },
  {
   "cell_type": "code",
   "execution_count": 160,
   "metadata": {},
   "outputs": [
    {
     "data": {
      "text/html": [
       "<div>\n",
       "<style scoped>\n",
       "    .dataframe tbody tr th:only-of-type {\n",
       "        vertical-align: middle;\n",
       "    }\n",
       "\n",
       "    .dataframe tbody tr th {\n",
       "        vertical-align: top;\n",
       "    }\n",
       "\n",
       "    .dataframe thead th {\n",
       "        text-align: right;\n",
       "    }\n",
       "</style>\n",
       "<table border=\"1\" class=\"dataframe\">\n",
       "  <thead>\n",
       "    <tr style=\"text-align: right;\">\n",
       "      <th></th>\n",
       "      <th>Acne</th>\n",
       "      <th>Week_of_Year_1</th>\n",
       "      <th>Week_of_Year_2</th>\n",
       "      <th>Week_of_Year_3</th>\n",
       "      <th>Week_of_Year_4</th>\n",
       "      <th>Week_of_Year_5</th>\n",
       "      <th>Week_of_Year_6</th>\n",
       "      <th>Week_of_Year_7</th>\n",
       "      <th>Week_of_Year_8</th>\n",
       "      <th>Week_of_Year_9</th>\n",
       "      <th>...</th>\n",
       "      <th>Week_of_Year_43</th>\n",
       "      <th>Week_of_Year_44</th>\n",
       "      <th>Week_of_Year_45</th>\n",
       "      <th>Week_of_Year_46</th>\n",
       "      <th>Week_of_Year_47</th>\n",
       "      <th>Week_of_Year_48</th>\n",
       "      <th>Week_of_Year_49</th>\n",
       "      <th>Week_of_Year_50</th>\n",
       "      <th>Week_of_Year_51</th>\n",
       "      <th>Week_of_Year_52</th>\n",
       "    </tr>\n",
       "  </thead>\n",
       "  <tbody>\n",
       "    <tr>\n",
       "      <th>2019-01-05</th>\n",
       "      <td>1.49698e+07</td>\n",
       "      <td>1</td>\n",
       "      <td>0</td>\n",
       "      <td>0</td>\n",
       "      <td>0</td>\n",
       "      <td>0</td>\n",
       "      <td>0</td>\n",
       "      <td>0</td>\n",
       "      <td>0</td>\n",
       "      <td>0</td>\n",
       "      <td>...</td>\n",
       "      <td>0</td>\n",
       "      <td>0</td>\n",
       "      <td>0</td>\n",
       "      <td>0</td>\n",
       "      <td>0</td>\n",
       "      <td>0</td>\n",
       "      <td>0</td>\n",
       "      <td>0</td>\n",
       "      <td>0</td>\n",
       "      <td>0</td>\n",
       "    </tr>\n",
       "    <tr>\n",
       "      <th>2019-01-12</th>\n",
       "      <td>1.54889e+07</td>\n",
       "      <td>0</td>\n",
       "      <td>1</td>\n",
       "      <td>0</td>\n",
       "      <td>0</td>\n",
       "      <td>0</td>\n",
       "      <td>0</td>\n",
       "      <td>0</td>\n",
       "      <td>0</td>\n",
       "      <td>0</td>\n",
       "      <td>...</td>\n",
       "      <td>0</td>\n",
       "      <td>0</td>\n",
       "      <td>0</td>\n",
       "      <td>0</td>\n",
       "      <td>0</td>\n",
       "      <td>0</td>\n",
       "      <td>0</td>\n",
       "      <td>0</td>\n",
       "      <td>0</td>\n",
       "      <td>0</td>\n",
       "    </tr>\n",
       "    <tr>\n",
       "      <th>2019-01-19</th>\n",
       "      <td>1.55224e+07</td>\n",
       "      <td>0</td>\n",
       "      <td>0</td>\n",
       "      <td>1</td>\n",
       "      <td>0</td>\n",
       "      <td>0</td>\n",
       "      <td>0</td>\n",
       "      <td>0</td>\n",
       "      <td>0</td>\n",
       "      <td>0</td>\n",
       "      <td>...</td>\n",
       "      <td>0</td>\n",
       "      <td>0</td>\n",
       "      <td>0</td>\n",
       "      <td>0</td>\n",
       "      <td>0</td>\n",
       "      <td>0</td>\n",
       "      <td>0</td>\n",
       "      <td>0</td>\n",
       "      <td>0</td>\n",
       "      <td>0</td>\n",
       "    </tr>\n",
       "    <tr>\n",
       "      <th>2019-01-26</th>\n",
       "      <td>1.50542e+07</td>\n",
       "      <td>0</td>\n",
       "      <td>0</td>\n",
       "      <td>0</td>\n",
       "      <td>1</td>\n",
       "      <td>0</td>\n",
       "      <td>0</td>\n",
       "      <td>0</td>\n",
       "      <td>0</td>\n",
       "      <td>0</td>\n",
       "      <td>...</td>\n",
       "      <td>0</td>\n",
       "      <td>0</td>\n",
       "      <td>0</td>\n",
       "      <td>0</td>\n",
       "      <td>0</td>\n",
       "      <td>0</td>\n",
       "      <td>0</td>\n",
       "      <td>0</td>\n",
       "      <td>0</td>\n",
       "      <td>0</td>\n",
       "    </tr>\n",
       "    <tr>\n",
       "      <th>2019-02-02</th>\n",
       "      <td>1.45854e+07</td>\n",
       "      <td>0</td>\n",
       "      <td>0</td>\n",
       "      <td>0</td>\n",
       "      <td>0</td>\n",
       "      <td>1</td>\n",
       "      <td>0</td>\n",
       "      <td>0</td>\n",
       "      <td>0</td>\n",
       "      <td>0</td>\n",
       "      <td>...</td>\n",
       "      <td>0</td>\n",
       "      <td>0</td>\n",
       "      <td>0</td>\n",
       "      <td>0</td>\n",
       "      <td>0</td>\n",
       "      <td>0</td>\n",
       "      <td>0</td>\n",
       "      <td>0</td>\n",
       "      <td>0</td>\n",
       "      <td>0</td>\n",
       "    </tr>\n",
       "  </tbody>\n",
       "</table>\n",
       "<p>5 rows × 53 columns</p>\n",
       "</div>"
      ],
      "text/plain": [
       "                   Acne  Week_of_Year_1  Week_of_Year_2  Week_of_Year_3  \\\n",
       "2019-01-05  1.49698e+07               1               0               0   \n",
       "2019-01-12  1.54889e+07               0               1               0   \n",
       "2019-01-19  1.55224e+07               0               0               1   \n",
       "2019-01-26  1.50542e+07               0               0               0   \n",
       "2019-02-02  1.45854e+07               0               0               0   \n",
       "\n",
       "            Week_of_Year_4  Week_of_Year_5  Week_of_Year_6  Week_of_Year_7  \\\n",
       "2019-01-05               0               0               0               0   \n",
       "2019-01-12               0               0               0               0   \n",
       "2019-01-19               0               0               0               0   \n",
       "2019-01-26               1               0               0               0   \n",
       "2019-02-02               0               1               0               0   \n",
       "\n",
       "            Week_of_Year_8  Week_of_Year_9  ...  Week_of_Year_43  \\\n",
       "2019-01-05               0               0  ...                0   \n",
       "2019-01-12               0               0  ...                0   \n",
       "2019-01-19               0               0  ...                0   \n",
       "2019-01-26               0               0  ...                0   \n",
       "2019-02-02               0               0  ...                0   \n",
       "\n",
       "            Week_of_Year_44  Week_of_Year_45  Week_of_Year_46  \\\n",
       "2019-01-05                0                0                0   \n",
       "2019-01-12                0                0                0   \n",
       "2019-01-19                0                0                0   \n",
       "2019-01-26                0                0                0   \n",
       "2019-02-02                0                0                0   \n",
       "\n",
       "            Week_of_Year_47  Week_of_Year_48  Week_of_Year_49  \\\n",
       "2019-01-05                0                0                0   \n",
       "2019-01-12                0                0                0   \n",
       "2019-01-19                0                0                0   \n",
       "2019-01-26                0                0                0   \n",
       "2019-02-02                0                0                0   \n",
       "\n",
       "            Week_of_Year_50  Week_of_Year_51  Week_of_Year_52  \n",
       "2019-01-05                0                0                0  \n",
       "2019-01-12                0                0                0  \n",
       "2019-01-19                0                0                0  \n",
       "2019-01-26                0                0                0  \n",
       "2019-02-02                0                0                0  \n",
       "\n",
       "[5 rows x 53 columns]"
      ]
     },
     "execution_count": 160,
     "metadata": {},
     "output_type": "execute_result"
    }
   ],
   "source": [
    "# Binary encode the weekly column to use as new input features for the model\n",
    "X_binary_encoded = pd.get_dummies(X, columns=['Week_of_Year'])\n",
    "X_binary_encoded.head()"
   ]
  },
  {
   "cell_type": "code",
   "execution_count": 161,
   "metadata": {},
   "outputs": [
    {
     "data": {
      "text/html": [
       "<div>\n",
       "<style scoped>\n",
       "    .dataframe tbody tr th:only-of-type {\n",
       "        vertical-align: middle;\n",
       "    }\n",
       "\n",
       "    .dataframe tbody tr th {\n",
       "        vertical-align: top;\n",
       "    }\n",
       "\n",
       "    .dataframe thead th {\n",
       "        text-align: right;\n",
       "    }\n",
       "</style>\n",
       "<table border=\"1\" class=\"dataframe\">\n",
       "  <thead>\n",
       "    <tr style=\"text-align: right;\">\n",
       "      <th></th>\n",
       "      <th>Week_of_Year_1</th>\n",
       "      <th>Week_of_Year_2</th>\n",
       "      <th>Week_of_Year_3</th>\n",
       "      <th>Week_of_Year_4</th>\n",
       "      <th>Week_of_Year_5</th>\n",
       "      <th>Week_of_Year_6</th>\n",
       "      <th>Week_of_Year_7</th>\n",
       "      <th>Week_of_Year_8</th>\n",
       "      <th>Week_of_Year_9</th>\n",
       "      <th>Week_of_Year_10</th>\n",
       "      <th>...</th>\n",
       "      <th>Week_of_Year_43</th>\n",
       "      <th>Week_of_Year_44</th>\n",
       "      <th>Week_of_Year_45</th>\n",
       "      <th>Week_of_Year_46</th>\n",
       "      <th>Week_of_Year_47</th>\n",
       "      <th>Week_of_Year_48</th>\n",
       "      <th>Week_of_Year_49</th>\n",
       "      <th>Week_of_Year_50</th>\n",
       "      <th>Week_of_Year_51</th>\n",
       "      <th>Week_of_Year_52</th>\n",
       "    </tr>\n",
       "  </thead>\n",
       "  <tbody>\n",
       "    <tr>\n",
       "      <th>2019-01-05</th>\n",
       "      <td>1</td>\n",
       "      <td>0</td>\n",
       "      <td>0</td>\n",
       "      <td>0</td>\n",
       "      <td>0</td>\n",
       "      <td>0</td>\n",
       "      <td>0</td>\n",
       "      <td>0</td>\n",
       "      <td>0</td>\n",
       "      <td>0</td>\n",
       "      <td>...</td>\n",
       "      <td>0</td>\n",
       "      <td>0</td>\n",
       "      <td>0</td>\n",
       "      <td>0</td>\n",
       "      <td>0</td>\n",
       "      <td>0</td>\n",
       "      <td>0</td>\n",
       "      <td>0</td>\n",
       "      <td>0</td>\n",
       "      <td>0</td>\n",
       "    </tr>\n",
       "    <tr>\n",
       "      <th>2019-01-12</th>\n",
       "      <td>0</td>\n",
       "      <td>1</td>\n",
       "      <td>0</td>\n",
       "      <td>0</td>\n",
       "      <td>0</td>\n",
       "      <td>0</td>\n",
       "      <td>0</td>\n",
       "      <td>0</td>\n",
       "      <td>0</td>\n",
       "      <td>0</td>\n",
       "      <td>...</td>\n",
       "      <td>0</td>\n",
       "      <td>0</td>\n",
       "      <td>0</td>\n",
       "      <td>0</td>\n",
       "      <td>0</td>\n",
       "      <td>0</td>\n",
       "      <td>0</td>\n",
       "      <td>0</td>\n",
       "      <td>0</td>\n",
       "      <td>0</td>\n",
       "    </tr>\n",
       "    <tr>\n",
       "      <th>2019-01-19</th>\n",
       "      <td>0</td>\n",
       "      <td>0</td>\n",
       "      <td>1</td>\n",
       "      <td>0</td>\n",
       "      <td>0</td>\n",
       "      <td>0</td>\n",
       "      <td>0</td>\n",
       "      <td>0</td>\n",
       "      <td>0</td>\n",
       "      <td>0</td>\n",
       "      <td>...</td>\n",
       "      <td>0</td>\n",
       "      <td>0</td>\n",
       "      <td>0</td>\n",
       "      <td>0</td>\n",
       "      <td>0</td>\n",
       "      <td>0</td>\n",
       "      <td>0</td>\n",
       "      <td>0</td>\n",
       "      <td>0</td>\n",
       "      <td>0</td>\n",
       "    </tr>\n",
       "    <tr>\n",
       "      <th>2019-01-26</th>\n",
       "      <td>0</td>\n",
       "      <td>0</td>\n",
       "      <td>0</td>\n",
       "      <td>1</td>\n",
       "      <td>0</td>\n",
       "      <td>0</td>\n",
       "      <td>0</td>\n",
       "      <td>0</td>\n",
       "      <td>0</td>\n",
       "      <td>0</td>\n",
       "      <td>...</td>\n",
       "      <td>0</td>\n",
       "      <td>0</td>\n",
       "      <td>0</td>\n",
       "      <td>0</td>\n",
       "      <td>0</td>\n",
       "      <td>0</td>\n",
       "      <td>0</td>\n",
       "      <td>0</td>\n",
       "      <td>0</td>\n",
       "      <td>0</td>\n",
       "    </tr>\n",
       "    <tr>\n",
       "      <th>2019-02-02</th>\n",
       "      <td>0</td>\n",
       "      <td>0</td>\n",
       "      <td>0</td>\n",
       "      <td>0</td>\n",
       "      <td>1</td>\n",
       "      <td>0</td>\n",
       "      <td>0</td>\n",
       "      <td>0</td>\n",
       "      <td>0</td>\n",
       "      <td>0</td>\n",
       "      <td>...</td>\n",
       "      <td>0</td>\n",
       "      <td>0</td>\n",
       "      <td>0</td>\n",
       "      <td>0</td>\n",
       "      <td>0</td>\n",
       "      <td>0</td>\n",
       "      <td>0</td>\n",
       "      <td>0</td>\n",
       "      <td>0</td>\n",
       "      <td>0</td>\n",
       "    </tr>\n",
       "  </tbody>\n",
       "</table>\n",
       "<p>5 rows × 52 columns</p>\n",
       "</div>"
      ],
      "text/plain": [
       "            Week_of_Year_1  Week_of_Year_2  Week_of_Year_3  Week_of_Year_4  \\\n",
       "2019-01-05               1               0               0               0   \n",
       "2019-01-12               0               1               0               0   \n",
       "2019-01-19               0               0               1               0   \n",
       "2019-01-26               0               0               0               1   \n",
       "2019-02-02               0               0               0               0   \n",
       "\n",
       "            Week_of_Year_5  Week_of_Year_6  Week_of_Year_7  Week_of_Year_8  \\\n",
       "2019-01-05               0               0               0               0   \n",
       "2019-01-12               0               0               0               0   \n",
       "2019-01-19               0               0               0               0   \n",
       "2019-01-26               0               0               0               0   \n",
       "2019-02-02               1               0               0               0   \n",
       "\n",
       "            Week_of_Year_9  Week_of_Year_10  ...  Week_of_Year_43  \\\n",
       "2019-01-05               0                0  ...                0   \n",
       "2019-01-12               0                0  ...                0   \n",
       "2019-01-19               0                0  ...                0   \n",
       "2019-01-26               0                0  ...                0   \n",
       "2019-02-02               0                0  ...                0   \n",
       "\n",
       "            Week_of_Year_44  Week_of_Year_45  Week_of_Year_46  \\\n",
       "2019-01-05                0                0                0   \n",
       "2019-01-12                0                0                0   \n",
       "2019-01-19                0                0                0   \n",
       "2019-01-26                0                0                0   \n",
       "2019-02-02                0                0                0   \n",
       "\n",
       "            Week_of_Year_47  Week_of_Year_48  Week_of_Year_49  \\\n",
       "2019-01-05                0                0                0   \n",
       "2019-01-12                0                0                0   \n",
       "2019-01-19                0                0                0   \n",
       "2019-01-26                0                0                0   \n",
       "2019-02-02                0                0                0   \n",
       "\n",
       "            Week_of_Year_50  Week_of_Year_51  Week_of_Year_52  \n",
       "2019-01-05                0                0                0  \n",
       "2019-01-12                0                0                0  \n",
       "2019-01-19                0                0                0  \n",
       "2019-01-26                0                0                0  \n",
       "2019-02-02                0                0                0  \n",
       "\n",
       "[5 rows x 52 columns]"
      ]
     },
     "execution_count": 161,
     "metadata": {},
     "output_type": "execute_result"
    }
   ],
   "source": [
    "# The Acne Sales column must be deleted from the input features\n",
    "X_binary_encoded = X_binary_encoded.drop('Acne', axis=1)\n",
    "X_binary_encoded.head()"
   ]
  },
  {
   "cell_type": "code",
   "execution_count": 162,
   "metadata": {},
   "outputs": [],
   "source": [
    "# The target for our model is to predict the Acne Sales\n",
    "y = acne_df['Acne'].copy()"
   ]
  },
  {
   "cell_type": "code",
   "execution_count": 163,
   "metadata": {},
   "outputs": [],
   "source": [
    "# Create the Linear Regression model\n",
    "model = LinearRegression()\n",
    "\n",
    "# Fit the model to the data (Train the model)\n",
    "model.fit(X_binary_encoded, y)\n",
    "\n",
    "# Predict the sales using the week of the year as inputs\n",
    "predictions = model.predict(X_binary_encoded)"
   ]
  },
  {
   "cell_type": "code",
   "execution_count": 164,
   "metadata": {},
   "outputs": [
    {
     "name": "stdout",
     "output_type": "stream",
     "text": [
      "Score: 0.12080642683521015, r2: 0.12080642683521015\n"
     ]
    }
   ],
   "source": [
    "\n",
    "from sklearn.metrics import mean_squared_error, r2_score\n",
    "\n",
    "# The default scoring method is the R2 score\n",
    "score = model.score(X_binary_encoded, y)\n",
    "r2 = r2_score(y, predictions)\n",
    "\n",
    "print(f\"Score: {score}, r2: {r2}\")"
   ]
  },
  {
   "cell_type": "code",
   "execution_count": 165,
   "metadata": {},
   "outputs": [
    {
     "data": {
      "text/plain": [
       "10540835710237.002"
      ]
     },
     "execution_count": 165,
     "metadata": {},
     "output_type": "execute_result"
    }
   ],
   "source": [
    "# Mean Squared Error\n",
    "mse = mean_squared_error(y, predictions)\n",
    "mse"
   ]
  },
  {
   "cell_type": "code",
   "execution_count": 166,
   "metadata": {},
   "outputs": [
    {
     "data": {
      "text/plain": [
       "3246665.3215625724"
      ]
     },
     "execution_count": 166,
     "metadata": {},
     "output_type": "execute_result"
    }
   ],
   "source": [
    "# Root Mean Squared Error\n",
    "rmse = np.sqrt(mse)\n",
    "rmse"
   ]
  },
  {
   "cell_type": "code",
   "execution_count": 167,
   "metadata": {},
   "outputs": [
    {
     "data": {
      "text/plain": [
       "3462543.7526445165"
      ]
     },
     "execution_count": 167,
     "metadata": {},
     "output_type": "execute_result"
    }
   ],
   "source": [
    "# Standard deviation\n",
    "np.std(y)"
   ]
  },
  {
   "cell_type": "code",
   "execution_count": 168,
   "metadata": {},
   "outputs": [
    {
     "data": {
      "text/plain": [
       "[<matplotlib.lines.Line2D at 0x1d7b21a44c8>]"
      ]
     },
     "execution_count": 168,
     "metadata": {},
     "output_type": "execute_result"
    },
    {
     "data": {
      "image/png": "[encoded data removed]",
      "text/plain": [
       "<Figure size 432x288 with 1 Axes>"
      ]
     },
     "metadata": {
      "needs_background": "light"
     },
     "output_type": "display_data"
    }
   ],
   "source": [
    "plt.scatter(X['Week_of_Year'], y)\n",
    "plt.plot(X['Week_of_Year'], predictions, color='red')"
   ]
  },
  {
   "cell_type": "code",
   "execution_count": 137,
   "metadata": {},
   "outputs": [],
   "source": [
    "### This graph and R2 shows that we can only predict the sales based on what week of the year with a 12 % accuracy. "
   ]
  },
  {
   "cell_type": "code",
   "execution_count": 138,
   "metadata": {},
   "outputs": [],
   "source": [
    "### Now trying to determine if promos effect sales ###\n"
   ]
  },
  {
   "cell_type": "code",
   "execution_count": 139,
   "metadata": {},
   "outputs": [],
   "source": [
    "### Code below implementeed from https://harvard-iacs.github.io/2018-CS109A/lectures/lecture-23/demo/ ###"
   ]
  },
  {
   "cell_type": "code",
   "execution_count": null,
   "metadata": {},
   "outputs": [],
   "source": [
    "# H(NULL)=The Promos have no effect on sales\n",
    "# H1== Promos have an effect on sales price"
   ]
  },
  {
   "cell_type": "code",
   "execution_count": 210,
   "metadata": {},
   "outputs": [],
   "source": [
    "acne_df=acne_df.astype(int)\n",
    "acne_df1=acne_df.dropna()"
   ]
  },
  {
   "cell_type": "code",
   "execution_count": 218,
   "metadata": {
    "scrolled": false
   },
   "outputs": [],
   "source": [
    "#creating the sales and promo measures for each group\n",
    "controlgroup = acne_df1['Acne'][acne_df1['acne_promo']==0]\n",
    "trt1group = acne_df1['Acne'][acne_df1['acne_promo']==1]\n"
   ]
  },
  {
   "cell_type": "code",
   "execution_count": null,
   "metadata": {},
   "outputs": [],
   "source": [
    "\n",
    "# The two-sample t-test is used to test whether the unknown means of two groups are equal or not."
   ]
  },
  {
   "cell_type": "code",
   "execution_count": 221,
   "metadata": {},
   "outputs": [
    {
     "data": {
      "text/plain": [
       "Ttest_indResult(statistic=-2.350854292899001, pvalue=0.020511660873746725)"
      ]
     },
     "execution_count": 221,
     "metadata": {},
     "output_type": "execute_result"
    }
   ],
   "source": [
    "#two sample t-test testing promo and non promo group\n",
    "sp.stats.ttest_ind(controlgroup,trt1group)"
   ]
  },
  {
   "cell_type": "code",
   "execution_count": 223,
   "metadata": {},
   "outputs": [
    {
     "data": {
      "text/plain": [
       "F_onewayResult(statistic=5.526515906441659, pvalue=0.020511660873746774)"
      ]
     },
     "execution_count": 223,
     "metadata": {},
     "output_type": "execute_result"
    }
   ],
   "source": [
    "#ANOVA F-test\n",
    "sp.stats.f_oneway(controlgroup,trt1group)"
   ]
  },
  {
   "cell_type": "code",
   "execution_count": null,
   "metadata": {},
   "outputs": [],
   "source": [
    "## P <.05 so we reject the NULL Hyptohesis and conclude that promos are affecting sales performance. "
   ]
  },
  {
   "cell_type": "code",
   "execution_count": null,
   "metadata": {},
   "outputs": [],
   "source": [
    "##insert graph here"
   ]
  },
  {
   "cell_type": "code",
   "execution_count": 228,
   "metadata": {
    "scrolled": true
   },
   "outputs": [
    {
     "data": {
      "image/png": "[encoded data removed]",
      "text/plain": [
       "<Figure size 1440x720 with 1 Axes>"
      ]
     },
     "metadata": {
      "needs_background": "light"
     },
     "output_type": "display_data"
    }
   ],
   "source": [
    "fig = plt.figure(figsize= (20, 10))\n",
    "ax = fig.add_subplot(111)\n",
    "\n",
    "\n",
    "p_bp_male = plt.hist(acne_df1['Acne'][acne_df1['acne_promo']==0], label= \"Non-Promos\",color=\"red\",\n",
    "                     density= True,\n",
    "                     alpha=0.75)\n",
    "p_bp_female = plt.hist(acne_df1['Acne'][acne_df1['acne_promo']==1], label= \"Promos\",color=\"blue\",\n",
    "                       density= True,\n",
    "                       alpha=0.75)\n",
    "\n",
    "\n",
    "plt.suptitle(\"Promo vs. Non- Promo Sales\", fontsize= 20)\n",
    "plt.xlabel(\"Sales\", fontsize= 16)\n",
    "plt.ylabel(\"Probability density\", fontsize= 16)\n",
    "\n",
    "\n",
    "\n",
    "plt.show()\n"
   ]
  },
  {
   "cell_type": "code",
   "execution_count": null,
   "metadata": {},
   "outputs": [],
   "source": []
  },
  {
   "cell_type": "code",
   "execution_count": null,
   "metadata": {},
   "outputs": [],
   "source": []
  },
  {
   "cell_type": "code",
   "execution_count": 13,
   "metadata": {},
   "outputs": [],
   "source": [
    "baby_df= sales_df[[\"Baby\", \"baby_promo\"]]"
   ]
  },
  {
   "cell_type": "code",
   "execution_count": 14,
   "metadata": {},
   "outputs": [
    {
     "data": {
      "text/html": [
       "<div>\n",
       "<style scoped>\n",
       "    .dataframe tbody tr th:only-of-type {\n",
       "        vertical-align: middle;\n",
       "    }\n",
       "\n",
       "    .dataframe tbody tr th {\n",
       "        vertical-align: top;\n",
       "    }\n",
       "\n",
       "    .dataframe thead th {\n",
       "        text-align: right;\n",
       "    }\n",
       "</style>\n",
       "<table border=\"1\" class=\"dataframe\">\n",
       "  <thead>\n",
       "    <tr style=\"text-align: right;\">\n",
       "      <th>Date</th>\n",
       "      <th>Baby</th>\n",
       "      <th>baby_promo</th>\n",
       "    </tr>\n",
       "  </thead>\n",
       "  <tbody>\n",
       "    <tr>\n",
       "      <th>5-Jan-19</th>\n",
       "      <td>1417338</td>\n",
       "      <td>0</td>\n",
       "    </tr>\n",
       "    <tr>\n",
       "      <th>12-Jan-19</th>\n",
       "      <td>1515492</td>\n",
       "      <td>0</td>\n",
       "    </tr>\n",
       "    <tr>\n",
       "      <th>19-Jan-19</th>\n",
       "      <td>1562793</td>\n",
       "      <td>0</td>\n",
       "    </tr>\n",
       "    <tr>\n",
       "      <th>26-Jan-19</th>\n",
       "      <td>1555259</td>\n",
       "      <td>0</td>\n",
       "    </tr>\n",
       "    <tr>\n",
       "      <th>2-Feb-19</th>\n",
       "      <td>1638797</td>\n",
       "      <td>0</td>\n",
       "    </tr>\n",
       "    <tr>\n",
       "      <th>...</th>\n",
       "      <td>...</td>\n",
       "      <td>...</td>\n",
       "    </tr>\n",
       "    <tr>\n",
       "      <th>24-May-21</th>\n",
       "      <td>135259</td>\n",
       "      <td>0</td>\n",
       "    </tr>\n",
       "    <tr>\n",
       "      <th>31-May-21</th>\n",
       "      <td>131590</td>\n",
       "      <td>0</td>\n",
       "    </tr>\n",
       "    <tr>\n",
       "      <th>7-Jun-21</th>\n",
       "      <td>143073</td>\n",
       "      <td>0</td>\n",
       "    </tr>\n",
       "    <tr>\n",
       "      <th>14-Jun-21</th>\n",
       "      <td>155264</td>\n",
       "      <td>0</td>\n",
       "    </tr>\n",
       "    <tr>\n",
       "      <th>21-Jun-21</th>\n",
       "      <td>132207</td>\n",
       "      <td>0</td>\n",
       "    </tr>\n",
       "  </tbody>\n",
       "</table>\n",
       "<p>112 rows × 2 columns</p>\n",
       "</div>"
      ],
      "text/plain": [
       "Date          Baby baby_promo\n",
       "5-Jan-19   1417338          0\n",
       "12-Jan-19  1515492          0\n",
       "19-Jan-19  1562793          0\n",
       "26-Jan-19  1555259          0\n",
       "2-Feb-19   1638797          0\n",
       "...            ...        ...\n",
       "24-May-21   135259          0\n",
       "31-May-21   131590          0\n",
       "7-Jun-21    143073          0\n",
       "14-Jun-21   155264          0\n",
       "21-Jun-21   132207          0\n",
       "\n",
       "[112 rows x 2 columns]"
      ]
     },
     "execution_count": 14,
     "metadata": {},
     "output_type": "execute_result"
    }
   ],
   "source": [
    "baby_df"
   ]
  },
  {
   "cell_type": "code",
   "execution_count": 15,
   "metadata": {},
   "outputs": [
    {
     "data": {
      "text/plain": [
       "<AxesSubplot:>"
      ]
     },
     "execution_count": 15,
     "metadata": {},
     "output_type": "execute_result"
    },
    {
     "data": {
      "image/png": "[encoded data removed]",
      "text/plain": [
       "<Figure size 432x288 with 1 Axes>"
      ]
     },
     "metadata": {
      "needs_background": "light"
     },
     "output_type": "display_data"
    }
   ],
   "source": [
    "baby_df.plot()"
   ]
  },
  {
   "cell_type": "code",
   "execution_count": null,
   "metadata": {},
   "outputs": [],
   "source": []
  },
  {
   "cell_type": "code",
   "execution_count": null,
   "metadata": {},
   "outputs": [],
   "source": []
  }
 ],
 "metadata": {
  "kernelspec": {
   "display_name": "Python 3",
   "language": "python",
   "name": "python3"
  },
  "language_info": {
   "codemirror_mode": {
    "name": "ipython",
    "version": 3
   },
   "file_extension": ".py",
   "mimetype": "text/x-python",
   "name": "python",
   "nbconvert_exporter": "python",
   "pygments_lexer": "ipython3",
   "version": "3.7.9"
  }
 },
 "nbformat": 4,
 "nbformat_minor": 4
}
