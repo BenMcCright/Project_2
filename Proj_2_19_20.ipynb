{
 "cells": [
  {
   "cell_type": "code",
   "execution_count": 1,
   "metadata": {},
   "outputs": [],
   "source": [
    "import pandas as pd\n",
    "import numpy as np\n",
    "import statsmodels.api as sm\n",
    "from sklearn.linear_model import LinearRegression\n",
    "import matplotlib.pyplot as plt\n",
    "import sys\n",
    "import scipy as sp\n",
    "import statsmodels as sm\n",
    "import matplotlib.pyplot as plt\n",
    "# import seaborn as sns\n",
    "from statsmodels.stats.proportion import proportions_ztest\n",
    "%matplotlib inline"
   ]
  },
  {
   "cell_type": "code",
   "execution_count": 126,
   "metadata": {
    "scrolled": true
   },
   "outputs": [],
   "source": [
    "sales_df=pd.read_csv(\"sales_promo_data_19_20.csv\", parse_dates=True)"
   ]
  },
  {
   "cell_type": "code",
   "execution_count": 127,
   "metadata": {
    "scrolled": true
   },
   "outputs": [
    {
     "data": {
      "text/html": [
       "<div>\n",
       "<style scoped>\n",
       "    .dataframe tbody tr th:only-of-type {\n",
       "        vertical-align: middle;\n",
       "    }\n",
       "\n",
       "    .dataframe tbody tr th {\n",
       "        vertical-align: top;\n",
       "    }\n",
       "\n",
       "    .dataframe thead th {\n",
       "        text-align: right;\n",
       "    }\n",
       "</style>\n",
       "<table border=\"1\" class=\"dataframe\">\n",
       "  <thead>\n",
       "    <tr style=\"text-align: right;\">\n",
       "      <th></th>\n",
       "      <th>Category</th>\n",
       "      <th>5-Jan-19</th>\n",
       "      <th>12-Jan-19</th>\n",
       "      <th>19-Jan-19</th>\n",
       "      <th>26-Jan-19</th>\n",
       "      <th>2-Feb-19</th>\n",
       "      <th>9-Feb-19</th>\n",
       "      <th>16-Feb-19</th>\n",
       "      <th>23-Feb-19</th>\n",
       "      <th>2-Mar-19</th>\n",
       "      <th>...</th>\n",
       "      <th>27-Jun-20</th>\n",
       "      <th>4-Jul-20</th>\n",
       "      <th>11-Jul-20</th>\n",
       "      <th>18-Jul-20</th>\n",
       "      <th>25-Jul-20</th>\n",
       "      <th>1-Aug-20</th>\n",
       "      <th>8-Aug-20</th>\n",
       "      <th>15-Aug-20</th>\n",
       "      <th>22-Aug-20</th>\n",
       "      <th>29-Aug-20</th>\n",
       "    </tr>\n",
       "  </thead>\n",
       "  <tbody>\n",
       "    <tr>\n",
       "      <th>15</th>\n",
       "      <td>shaving_promo</td>\n",
       "      <td>0</td>\n",
       "      <td>0</td>\n",
       "      <td>0</td>\n",
       "      <td>0</td>\n",
       "      <td>0</td>\n",
       "      <td>0</td>\n",
       "      <td>0</td>\n",
       "      <td>0</td>\n",
       "      <td>0</td>\n",
       "      <td>...</td>\n",
       "      <td>0</td>\n",
       "      <td>0</td>\n",
       "      <td>0</td>\n",
       "      <td>0</td>\n",
       "      <td>0</td>\n",
       "      <td>0</td>\n",
       "      <td>0</td>\n",
       "      <td>0</td>\n",
       "      <td>0</td>\n",
       "      <td>0</td>\n",
       "    </tr>\n",
       "    <tr>\n",
       "      <th>16</th>\n",
       "      <td>Sunscreen</td>\n",
       "      <td>1661749</td>\n",
       "      <td>1434750</td>\n",
       "      <td>1423463</td>\n",
       "      <td>1366366</td>\n",
       "      <td>1496036</td>\n",
       "      <td>1838132</td>\n",
       "      <td>2138131</td>\n",
       "      <td>2443552</td>\n",
       "      <td>2793423</td>\n",
       "      <td>...</td>\n",
       "      <td>10271589</td>\n",
       "      <td>11106721</td>\n",
       "      <td>9383774</td>\n",
       "      <td>8412377</td>\n",
       "      <td>7211073</td>\n",
       "      <td>6410886</td>\n",
       "      <td>5008472</td>\n",
       "      <td>5074913</td>\n",
       "      <td>4078391</td>\n",
       "      <td>3295517</td>\n",
       "    </tr>\n",
       "    <tr>\n",
       "      <th>17</th>\n",
       "      <td>sunscreen_promo</td>\n",
       "      <td>0</td>\n",
       "      <td>0</td>\n",
       "      <td>0</td>\n",
       "      <td>0</td>\n",
       "      <td>0</td>\n",
       "      <td>0</td>\n",
       "      <td>0</td>\n",
       "      <td>0</td>\n",
       "      <td>0</td>\n",
       "      <td>...</td>\n",
       "      <td>1</td>\n",
       "      <td>1</td>\n",
       "      <td>1</td>\n",
       "      <td>0</td>\n",
       "      <td>0</td>\n",
       "      <td>0</td>\n",
       "      <td>1</td>\n",
       "      <td>1</td>\n",
       "      <td>1</td>\n",
       "      <td>1</td>\n",
       "    </tr>\n",
       "    <tr>\n",
       "      <th>18</th>\n",
       "      <td>Tanner</td>\n",
       "      <td>84682</td>\n",
       "      <td>78632</td>\n",
       "      <td>81813</td>\n",
       "      <td>82477</td>\n",
       "      <td>89832</td>\n",
       "      <td>104680</td>\n",
       "      <td>109791</td>\n",
       "      <td>111713</td>\n",
       "      <td>125240</td>\n",
       "      <td>...</td>\n",
       "      <td>217349</td>\n",
       "      <td>226920</td>\n",
       "      <td>187838</td>\n",
       "      <td>175613</td>\n",
       "      <td>160136</td>\n",
       "      <td>152533</td>\n",
       "      <td>133586</td>\n",
       "      <td>130342</td>\n",
       "      <td>119494</td>\n",
       "      <td>111080</td>\n",
       "    </tr>\n",
       "    <tr>\n",
       "      <th>19</th>\n",
       "      <td>tanner_promo</td>\n",
       "      <td>0</td>\n",
       "      <td>0</td>\n",
       "      <td>0</td>\n",
       "      <td>0</td>\n",
       "      <td>0</td>\n",
       "      <td>0</td>\n",
       "      <td>0</td>\n",
       "      <td>0</td>\n",
       "      <td>0</td>\n",
       "      <td>...</td>\n",
       "      <td>0</td>\n",
       "      <td>0</td>\n",
       "      <td>0</td>\n",
       "      <td>0</td>\n",
       "      <td>0</td>\n",
       "      <td>0</td>\n",
       "      <td>0</td>\n",
       "      <td>0</td>\n",
       "      <td>0</td>\n",
       "      <td>0</td>\n",
       "    </tr>\n",
       "  </tbody>\n",
       "</table>\n",
       "<p>5 rows × 88 columns</p>\n",
       "</div>"
      ],
      "text/plain": [
       "           Category  5-Jan-19  12-Jan-19  19-Jan-19  26-Jan-19  2-Feb-19  \\\n",
       "15    shaving_promo         0          0          0          0         0   \n",
       "16        Sunscreen   1661749    1434750    1423463    1366366   1496036   \n",
       "17  sunscreen_promo         0          0          0          0         0   \n",
       "18           Tanner     84682      78632      81813      82477     89832   \n",
       "19     tanner_promo         0          0          0          0         0   \n",
       "\n",
       "    9-Feb-19  16-Feb-19  23-Feb-19  2-Mar-19  ...  27-Jun-20  4-Jul-20  \\\n",
       "15         0          0          0         0  ...          0         0   \n",
       "16   1838132    2138131    2443552   2793423  ...   10271589  11106721   \n",
       "17         0          0          0         0  ...          1         1   \n",
       "18    104680     109791     111713    125240  ...     217349    226920   \n",
       "19         0          0          0         0  ...          0         0   \n",
       "\n",
       "    11-Jul-20  18-Jul-20  25-Jul-20  1-Aug-20  8-Aug-20  15-Aug-20  22-Aug-20  \\\n",
       "15          0          0          0         0         0          0          0   \n",
       "16    9383774    8412377    7211073   6410886   5008472    5074913    4078391   \n",
       "17          1          0          0         0         1          1          1   \n",
       "18     187838     175613     160136    152533    133586     130342     119494   \n",
       "19          0          0          0         0         0          0          0   \n",
       "\n",
       "    29-Aug-20  \n",
       "15          0  \n",
       "16    3295517  \n",
       "17          1  \n",
       "18     111080  \n",
       "19          0  \n",
       "\n",
       "[5 rows x 88 columns]"
      ]
     },
     "execution_count": 127,
     "metadata": {},
     "output_type": "execute_result"
    }
   ],
   "source": [
    "sales_df.tail()"
   ]
  },
  {
   "cell_type": "code",
   "execution_count": 128,
   "metadata": {
    "scrolled": false
   },
   "outputs": [],
   "source": [
    "sales_df=sales_df.rename(columns={\"Category\":\"Date\"})"
   ]
  },
  {
   "cell_type": "code",
   "execution_count": 129,
   "metadata": {},
   "outputs": [],
   "source": [
    "sales_df.index = pd.to_datetime(sales_df.index)"
   ]
  },
  {
   "cell_type": "code",
   "execution_count": 130,
   "metadata": {},
   "outputs": [],
   "source": [
    "sales_df=sales_df.T"
   ]
  },
  {
   "cell_type": "code",
   "execution_count": 131,
   "metadata": {},
   "outputs": [],
   "source": [
    "sales_df.columns= sales_df.iloc[0]"
   ]
  },
  {
   "cell_type": "code",
   "execution_count": 132,
   "metadata": {},
   "outputs": [
    {
     "data": {
      "text/html": [
       "<div>\n",
       "<style scoped>\n",
       "    .dataframe tbody tr th:only-of-type {\n",
       "        vertical-align: middle;\n",
       "    }\n",
       "\n",
       "    .dataframe tbody tr th {\n",
       "        vertical-align: top;\n",
       "    }\n",
       "\n",
       "    .dataframe thead th {\n",
       "        text-align: right;\n",
       "    }\n",
       "</style>\n",
       "<table border=\"1\" class=\"dataframe\">\n",
       "  <thead>\n",
       "    <tr style=\"text-align: right;\">\n",
       "      <th>Date</th>\n",
       "      <th>Acne</th>\n",
       "      <th>acne_promo</th>\n",
       "      <th>Baby</th>\n",
       "      <th>baby_promo</th>\n",
       "      <th>Bath</th>\n",
       "      <th>bath_promo</th>\n",
       "      <th>Body Wash</th>\n",
       "      <th>body_promo</th>\n",
       "      <th>Hair</th>\n",
       "      <th>hair_promo</th>\n",
       "      <th>Lotion</th>\n",
       "      <th>lotion_promo</th>\n",
       "      <th>Makeup</th>\n",
       "      <th>makeup_promo</th>\n",
       "      <th>Shaving</th>\n",
       "      <th>shaving_promo</th>\n",
       "      <th>Sunscreen</th>\n",
       "      <th>sunscreen_promo</th>\n",
       "      <th>Tanner</th>\n",
       "      <th>tanner_promo</th>\n",
       "    </tr>\n",
       "  </thead>\n",
       "  <tbody>\n",
       "    <tr>\n",
       "      <th>5-Jan-19</th>\n",
       "      <td>14969813</td>\n",
       "      <td>0</td>\n",
       "      <td>1417338</td>\n",
       "      <td>0</td>\n",
       "      <td>55558</td>\n",
       "      <td>0</td>\n",
       "      <td>1491216</td>\n",
       "      <td>0</td>\n",
       "      <td>929666</td>\n",
       "      <td>0</td>\n",
       "      <td>3227827</td>\n",
       "      <td>0</td>\n",
       "      <td>7156661</td>\n",
       "      <td>0</td>\n",
       "      <td>273010</td>\n",
       "      <td>0</td>\n",
       "      <td>1661749</td>\n",
       "      <td>0</td>\n",
       "      <td>84682</td>\n",
       "      <td>0</td>\n",
       "    </tr>\n",
       "    <tr>\n",
       "      <th>12-Jan-19</th>\n",
       "      <td>15488855</td>\n",
       "      <td>0</td>\n",
       "      <td>1515492</td>\n",
       "      <td>0</td>\n",
       "      <td>59528</td>\n",
       "      <td>0</td>\n",
       "      <td>1599429</td>\n",
       "      <td>0</td>\n",
       "      <td>1042393</td>\n",
       "      <td>0</td>\n",
       "      <td>3551875</td>\n",
       "      <td>0</td>\n",
       "      <td>7188663</td>\n",
       "      <td>0</td>\n",
       "      <td>283501</td>\n",
       "      <td>0</td>\n",
       "      <td>1434750</td>\n",
       "      <td>0</td>\n",
       "      <td>78632</td>\n",
       "      <td>0</td>\n",
       "    </tr>\n",
       "    <tr>\n",
       "      <th>19-Jan-19</th>\n",
       "      <td>15522357</td>\n",
       "      <td>0</td>\n",
       "      <td>1562793</td>\n",
       "      <td>0</td>\n",
       "      <td>56189</td>\n",
       "      <td>0</td>\n",
       "      <td>1409114</td>\n",
       "      <td>0</td>\n",
       "      <td>1048880</td>\n",
       "      <td>0</td>\n",
       "      <td>3435812</td>\n",
       "      <td>0</td>\n",
       "      <td>7173238</td>\n",
       "      <td>0</td>\n",
       "      <td>266646</td>\n",
       "      <td>0</td>\n",
       "      <td>1423463</td>\n",
       "      <td>0</td>\n",
       "      <td>81813</td>\n",
       "      <td>0</td>\n",
       "    </tr>\n",
       "    <tr>\n",
       "      <th>26-Jan-19</th>\n",
       "      <td>15054219</td>\n",
       "      <td>0</td>\n",
       "      <td>1555259</td>\n",
       "      <td>0</td>\n",
       "      <td>56073</td>\n",
       "      <td>0</td>\n",
       "      <td>1387046</td>\n",
       "      <td>0</td>\n",
       "      <td>1104388</td>\n",
       "      <td>0</td>\n",
       "      <td>3406859</td>\n",
       "      <td>0</td>\n",
       "      <td>6851425</td>\n",
       "      <td>0</td>\n",
       "      <td>264479</td>\n",
       "      <td>0</td>\n",
       "      <td>1366366</td>\n",
       "      <td>0</td>\n",
       "      <td>82477</td>\n",
       "      <td>0</td>\n",
       "    </tr>\n",
       "    <tr>\n",
       "      <th>2-Feb-19</th>\n",
       "      <td>14585357</td>\n",
       "      <td>0</td>\n",
       "      <td>1638797</td>\n",
       "      <td>0</td>\n",
       "      <td>60760</td>\n",
       "      <td>0</td>\n",
       "      <td>1479577</td>\n",
       "      <td>0</td>\n",
       "      <td>1235337</td>\n",
       "      <td>0</td>\n",
       "      <td>3754491</td>\n",
       "      <td>0</td>\n",
       "      <td>6745738</td>\n",
       "      <td>0</td>\n",
       "      <td>265783</td>\n",
       "      <td>0</td>\n",
       "      <td>1496036</td>\n",
       "      <td>0</td>\n",
       "      <td>89832</td>\n",
       "      <td>0</td>\n",
       "    </tr>\n",
       "  </tbody>\n",
       "</table>\n",
       "</div>"
      ],
      "text/plain": [
       "Date           Acne acne_promo     Baby baby_promo   Bath bath_promo  \\\n",
       "5-Jan-19   14969813          0  1417338          0  55558          0   \n",
       "12-Jan-19  15488855          0  1515492          0  59528          0   \n",
       "19-Jan-19  15522357          0  1562793          0  56189          0   \n",
       "26-Jan-19  15054219          0  1555259          0  56073          0   \n",
       "2-Feb-19   14585357          0  1638797          0  60760          0   \n",
       "\n",
       "Date      Body Wash body_promo     Hair hair_promo   Lotion lotion_promo  \\\n",
       "5-Jan-19    1491216          0   929666          0  3227827            0   \n",
       "12-Jan-19   1599429          0  1042393          0  3551875            0   \n",
       "19-Jan-19   1409114          0  1048880          0  3435812            0   \n",
       "26-Jan-19   1387046          0  1104388          0  3406859            0   \n",
       "2-Feb-19    1479577          0  1235337          0  3754491            0   \n",
       "\n",
       "Date        Makeup makeup_promo Shaving shaving_promo Sunscreen  \\\n",
       "5-Jan-19   7156661            0  273010             0   1661749   \n",
       "12-Jan-19  7188663            0  283501             0   1434750   \n",
       "19-Jan-19  7173238            0  266646             0   1423463   \n",
       "26-Jan-19  6851425            0  264479             0   1366366   \n",
       "2-Feb-19   6745738            0  265783             0   1496036   \n",
       "\n",
       "Date      sunscreen_promo Tanner tanner_promo  \n",
       "5-Jan-19                0  84682            0  \n",
       "12-Jan-19               0  78632            0  \n",
       "19-Jan-19               0  81813            0  \n",
       "26-Jan-19               0  82477            0  \n",
       "2-Feb-19                0  89832            0  "
      ]
     },
     "execution_count": 132,
     "metadata": {},
     "output_type": "execute_result"
    }
   ],
   "source": [
    "sales_df=sales_df.iloc[1:,:]\n",
    "sales_df.head()"
   ]
  },
  {
   "cell_type": "code",
   "execution_count": 133,
   "metadata": {},
   "outputs": [],
   "source": [
    "sales_df.index = pd.to_datetime(sales_df.index)"
   ]
  },
  {
   "cell_type": "code",
   "execution_count": 134,
   "metadata": {},
   "outputs": [],
   "source": [
    "acne_df= sales_df[[\"Acne\",\"acne_promo\"]]\n",
    "baby_df= sales_df[[\"Baby\",\"baby_promo\"]]\n",
    "bath_df= sales_df[[\"Bath\",\"bath_promo\"]]\n",
    "body_df= sales_df[[\"Body Wash\",\"body_promo\"]]\n",
    "hair_df= sales_df[[\"Hair\",\"hair_promo\"]]\n",
    "lotion_df= sales_df[[\"Lotion\",\"lotion_promo\"]]\n",
    "makeup_df= sales_df[[\"Makeup\",\"makeup_promo\"]]\n",
    "shaving_df= sales_df[[\"Shaving\",\"shaving_promo\"]]\n",
    "sunscreen_df= sales_df[[\"Sunscreen\",\"sunscreen_promo\"]]\n",
    "tanner_df= sales_df[[\"Tanner\",\"tanner_promo\"]]"
   ]
  },
  {
   "cell_type": "code",
   "execution_count": 135,
   "metadata": {
    "scrolled": true
   },
   "outputs": [
    {
     "data": {
      "text/plain": [
       "Date\n",
       "Acne          object\n",
       "acne_promo    object\n",
       "dtype: object"
      ]
     },
     "execution_count": 135,
     "metadata": {},
     "output_type": "execute_result"
    }
   ],
   "source": [
    "acne_df.dtypes"
   ]
  },
  {
   "cell_type": "code",
   "execution_count": 251,
   "metadata": {},
   "outputs": [],
   "source": [
    "acne_df=acne_df.astype(int)\n",
    "acne_df=acne_df.dropna()"
   ]
  },
  {
   "cell_type": "code",
   "execution_count": 252,
   "metadata": {},
   "outputs": [],
   "source": [
    "makuep_df=makeup_df.astype(int)\n",
    "makeup_df=makeup_df.dropna()"
   ]
  },
  {
   "cell_type": "code",
   "execution_count": 253,
   "metadata": {},
   "outputs": [],
   "source": [
    "lotion_df=lotion_df.astype(int)\n",
    "lotion_df=lotion_df.dropna()"
   ]
  },
  {
   "cell_type": "code",
   "execution_count": 201,
   "metadata": {
    "scrolled": false
   },
   "outputs": [
    {
     "data": {
      "image/png": "[encoded data removed]",
      "text/plain": [
       "<Figure size 432x288 with 1 Axes>"
      ]
     },
     "metadata": {
      "needs_background": "light"
     },
     "output_type": "display_data"
    }
   ],
   "source": [
    "ax= acne_df[\"Acne\"].plot()"
   ]
  },
  {
   "cell_type": "code",
   "execution_count": 204,
   "metadata": {},
   "outputs": [],
   "source": [
    "df1 = acne_df[\"Acne\"]\n",
    "df2 = makuep_df[\"Makeup\"]\n",
    "df3 = lotion_df[\"Lotion\"]"
   ]
  },
  {
   "cell_type": "code",
   "execution_count": 209,
   "metadata": {},
   "outputs": [
    {
     "data": {
      "text/plain": [
       "<AxesSubplot:>"
      ]
     },
     "execution_count": 209,
     "metadata": {},
     "output_type": "execute_result"
    },
    {
     "data": {
      "image/png": "[encoded data removed]",
      "text/plain": [
       "<Figure size 432x288 with 1 Axes>"
      ]
     },
     "metadata": {
      "needs_background": "light"
     },
     "output_type": "display_data"
    }
   ],
   "source": [
    "df1.plot()"
   ]
  },
  {
   "cell_type": "code",
   "execution_count": 211,
   "metadata": {},
   "outputs": [
    {
     "data": {
      "text/plain": [
       "<AxesSubplot:>"
      ]
     },
     "execution_count": 211,
     "metadata": {},
     "output_type": "execute_result"
    },
    {
     "data": {
      "image/png": "[encoded data removed]",
      "text/plain": [
       "<Figure size 432x288 with 1 Axes>"
      ]
     },
     "metadata": {
      "needs_background": "light"
     },
     "output_type": "display_data"
    }
   ],
   "source": [
    "df2.plot()"
   ]
  },
  {
   "cell_type": "code",
   "execution_count": 210,
   "metadata": {},
   "outputs": [
    {
     "data": {
      "text/plain": [
       "<AxesSubplot:>"
      ]
     },
     "execution_count": 210,
     "metadata": {},
     "output_type": "execute_result"
    },
    {
     "data": {
      "image/png": "[encoded data removed]",
      "text/plain": [
       "<Figure size 432x288 with 1 Axes>"
      ]
     },
     "metadata": {
      "needs_background": "light"
     },
     "output_type": "display_data"
    }
   ],
   "source": [
    "df3.plot()"
   ]
  },
  {
   "cell_type": "code",
   "execution_count": null,
   "metadata": {},
   "outputs": [],
   "source": [
    "# In this example, we want to use regression analysis and detrmine if the week of the year can predict the sales"
   ]
  },
  {
   "cell_type": "code",
   "execution_count": null,
   "metadata": {},
   "outputs": [],
   "source": [
    "## Acne"
   ]
  },
  {
   "cell_type": "code",
   "execution_count": 139,
   "metadata": {},
   "outputs": [],
   "source": [
    "X = acne_df['Acne'].to_frame()"
   ]
  },
  {
   "cell_type": "code",
   "execution_count": 140,
   "metadata": {},
   "outputs": [],
   "source": []
  },
  {
   "cell_type": "code",
   "execution_count": 141,
   "metadata": {},
   "outputs": [
    {
     "name": "stderr",
     "output_type": "stream",
     "text": [
      "<ipython-input-141-0d8505e88685>:2: FutureWarning: weekofyear and week have been deprecated, please use DatetimeIndex.isocalendar().week instead, which returns a Series.  To exactly reproduce the behavior of week and weekofyear and return an Index, you may call pd.Int64Index(idx.isocalendar().week)\n",
      "  X['Week_of_Year'] = X.index.weekofyear\n"
     ]
    },
    {
     "data": {
      "text/html": [
       "<div>\n",
       "<style scoped>\n",
       "    .dataframe tbody tr th:only-of-type {\n",
       "        vertical-align: middle;\n",
       "    }\n",
       "\n",
       "    .dataframe tbody tr th {\n",
       "        vertical-align: top;\n",
       "    }\n",
       "\n",
       "    .dataframe thead th {\n",
       "        text-align: right;\n",
       "    }\n",
       "</style>\n",
       "<table border=\"1\" class=\"dataframe\">\n",
       "  <thead>\n",
       "    <tr style=\"text-align: right;\">\n",
       "      <th></th>\n",
       "      <th>Acne</th>\n",
       "      <th>Week_of_Year</th>\n",
       "    </tr>\n",
       "  </thead>\n",
       "  <tbody>\n",
       "    <tr>\n",
       "      <th>2019-01-05</th>\n",
       "      <td>14969813</td>\n",
       "      <td>1</td>\n",
       "    </tr>\n",
       "    <tr>\n",
       "      <th>2019-01-12</th>\n",
       "      <td>15488855</td>\n",
       "      <td>2</td>\n",
       "    </tr>\n",
       "    <tr>\n",
       "      <th>2019-01-19</th>\n",
       "      <td>15522357</td>\n",
       "      <td>3</td>\n",
       "    </tr>\n",
       "    <tr>\n",
       "      <th>2019-01-26</th>\n",
       "      <td>15054219</td>\n",
       "      <td>4</td>\n",
       "    </tr>\n",
       "    <tr>\n",
       "      <th>2019-02-02</th>\n",
       "      <td>14585357</td>\n",
       "      <td>5</td>\n",
       "    </tr>\n",
       "  </tbody>\n",
       "</table>\n",
       "</div>"
      ],
      "text/plain": [
       "                Acne  Week_of_Year\n",
       "2019-01-05  14969813             1\n",
       "2019-01-12  15488855             2\n",
       "2019-01-19  15522357             3\n",
       "2019-01-26  15054219             4\n",
       "2019-02-02  14585357             5"
      ]
     },
     "execution_count": 141,
     "metadata": {},
     "output_type": "execute_result"
    }
   ],
   "source": [
    "# Generate a column with the week of the year\n",
    "X['Week_of_Year'] = X.index.weekofyear\n",
    "X.head()\n"
   ]
  },
  {
   "cell_type": "code",
   "execution_count": 142,
   "metadata": {},
   "outputs": [],
   "source": [
    "acne_week=X.copy()"
   ]
  },
  {
   "cell_type": "code",
   "execution_count": 143,
   "metadata": {},
   "outputs": [
    {
     "data": {
      "text/plain": [
       "<AxesSubplot:xlabel='Week_of_Year', ylabel='Acne'>"
      ]
     },
     "execution_count": 143,
     "metadata": {},
     "output_type": "execute_result"
    },
    {
     "data": {
      "image/png": "[encoded data removed]",
      "text/plain": [
       "<Figure size 432x288 with 1 Axes>"
      ]
     },
     "metadata": {
      "needs_background": "light"
     },
     "output_type": "display_data"
    }
   ],
   "source": [
    "X.plot(x= \"Week_of_Year\", y=\"Acne\", kind=\"scatter\")"
   ]
  },
  {
   "cell_type": "code",
   "execution_count": 144,
   "metadata": {},
   "outputs": [
    {
     "data": {
      "text/html": [
       "<div>\n",
       "<style scoped>\n",
       "    .dataframe tbody tr th:only-of-type {\n",
       "        vertical-align: middle;\n",
       "    }\n",
       "\n",
       "    .dataframe tbody tr th {\n",
       "        vertical-align: top;\n",
       "    }\n",
       "\n",
       "    .dataframe thead th {\n",
       "        text-align: right;\n",
       "    }\n",
       "</style>\n",
       "<table border=\"1\" class=\"dataframe\">\n",
       "  <thead>\n",
       "    <tr style=\"text-align: right;\">\n",
       "      <th></th>\n",
       "      <th>Acne</th>\n",
       "      <th>Week_of_Year_1</th>\n",
       "      <th>Week_of_Year_2</th>\n",
       "      <th>Week_of_Year_3</th>\n",
       "      <th>Week_of_Year_4</th>\n",
       "      <th>Week_of_Year_5</th>\n",
       "      <th>Week_of_Year_6</th>\n",
       "      <th>Week_of_Year_7</th>\n",
       "      <th>Week_of_Year_8</th>\n",
       "      <th>Week_of_Year_9</th>\n",
       "      <th>...</th>\n",
       "      <th>Week_of_Year_43</th>\n",
       "      <th>Week_of_Year_44</th>\n",
       "      <th>Week_of_Year_45</th>\n",
       "      <th>Week_of_Year_46</th>\n",
       "      <th>Week_of_Year_47</th>\n",
       "      <th>Week_of_Year_48</th>\n",
       "      <th>Week_of_Year_49</th>\n",
       "      <th>Week_of_Year_50</th>\n",
       "      <th>Week_of_Year_51</th>\n",
       "      <th>Week_of_Year_52</th>\n",
       "    </tr>\n",
       "  </thead>\n",
       "  <tbody>\n",
       "    <tr>\n",
       "      <th>2019-01-05</th>\n",
       "      <td>14969813</td>\n",
       "      <td>1</td>\n",
       "      <td>0</td>\n",
       "      <td>0</td>\n",
       "      <td>0</td>\n",
       "      <td>0</td>\n",
       "      <td>0</td>\n",
       "      <td>0</td>\n",
       "      <td>0</td>\n",
       "      <td>0</td>\n",
       "      <td>...</td>\n",
       "      <td>0</td>\n",
       "      <td>0</td>\n",
       "      <td>0</td>\n",
       "      <td>0</td>\n",
       "      <td>0</td>\n",
       "      <td>0</td>\n",
       "      <td>0</td>\n",
       "      <td>0</td>\n",
       "      <td>0</td>\n",
       "      <td>0</td>\n",
       "    </tr>\n",
       "    <tr>\n",
       "      <th>2019-01-12</th>\n",
       "      <td>15488855</td>\n",
       "      <td>0</td>\n",
       "      <td>1</td>\n",
       "      <td>0</td>\n",
       "      <td>0</td>\n",
       "      <td>0</td>\n",
       "      <td>0</td>\n",
       "      <td>0</td>\n",
       "      <td>0</td>\n",
       "      <td>0</td>\n",
       "      <td>...</td>\n",
       "      <td>0</td>\n",
       "      <td>0</td>\n",
       "      <td>0</td>\n",
       "      <td>0</td>\n",
       "      <td>0</td>\n",
       "      <td>0</td>\n",
       "      <td>0</td>\n",
       "      <td>0</td>\n",
       "      <td>0</td>\n",
       "      <td>0</td>\n",
       "    </tr>\n",
       "    <tr>\n",
       "      <th>2019-01-19</th>\n",
       "      <td>15522357</td>\n",
       "      <td>0</td>\n",
       "      <td>0</td>\n",
       "      <td>1</td>\n",
       "      <td>0</td>\n",
       "      <td>0</td>\n",
       "      <td>0</td>\n",
       "      <td>0</td>\n",
       "      <td>0</td>\n",
       "      <td>0</td>\n",
       "      <td>...</td>\n",
       "      <td>0</td>\n",
       "      <td>0</td>\n",
       "      <td>0</td>\n",
       "      <td>0</td>\n",
       "      <td>0</td>\n",
       "      <td>0</td>\n",
       "      <td>0</td>\n",
       "      <td>0</td>\n",
       "      <td>0</td>\n",
       "      <td>0</td>\n",
       "    </tr>\n",
       "    <tr>\n",
       "      <th>2019-01-26</th>\n",
       "      <td>15054219</td>\n",
       "      <td>0</td>\n",
       "      <td>0</td>\n",
       "      <td>0</td>\n",
       "      <td>1</td>\n",
       "      <td>0</td>\n",
       "      <td>0</td>\n",
       "      <td>0</td>\n",
       "      <td>0</td>\n",
       "      <td>0</td>\n",
       "      <td>...</td>\n",
       "      <td>0</td>\n",
       "      <td>0</td>\n",
       "      <td>0</td>\n",
       "      <td>0</td>\n",
       "      <td>0</td>\n",
       "      <td>0</td>\n",
       "      <td>0</td>\n",
       "      <td>0</td>\n",
       "      <td>0</td>\n",
       "      <td>0</td>\n",
       "    </tr>\n",
       "    <tr>\n",
       "      <th>2019-02-02</th>\n",
       "      <td>14585357</td>\n",
       "      <td>0</td>\n",
       "      <td>0</td>\n",
       "      <td>0</td>\n",
       "      <td>0</td>\n",
       "      <td>1</td>\n",
       "      <td>0</td>\n",
       "      <td>0</td>\n",
       "      <td>0</td>\n",
       "      <td>0</td>\n",
       "      <td>...</td>\n",
       "      <td>0</td>\n",
       "      <td>0</td>\n",
       "      <td>0</td>\n",
       "      <td>0</td>\n",
       "      <td>0</td>\n",
       "      <td>0</td>\n",
       "      <td>0</td>\n",
       "      <td>0</td>\n",
       "      <td>0</td>\n",
       "      <td>0</td>\n",
       "    </tr>\n",
       "  </tbody>\n",
       "</table>\n",
       "<p>5 rows × 53 columns</p>\n",
       "</div>"
      ],
      "text/plain": [
       "                Acne  Week_of_Year_1  Week_of_Year_2  Week_of_Year_3  \\\n",
       "2019-01-05  14969813               1               0               0   \n",
       "2019-01-12  15488855               0               1               0   \n",
       "2019-01-19  15522357               0               0               1   \n",
       "2019-01-26  15054219               0               0               0   \n",
       "2019-02-02  14585357               0               0               0   \n",
       "\n",
       "            Week_of_Year_4  Week_of_Year_5  Week_of_Year_6  Week_of_Year_7  \\\n",
       "2019-01-05               0               0               0               0   \n",
       "2019-01-12               0               0               0               0   \n",
       "2019-01-19               0               0               0               0   \n",
       "2019-01-26               1               0               0               0   \n",
       "2019-02-02               0               1               0               0   \n",
       "\n",
       "            Week_of_Year_8  Week_of_Year_9  ...  Week_of_Year_43  \\\n",
       "2019-01-05               0               0  ...                0   \n",
       "2019-01-12               0               0  ...                0   \n",
       "2019-01-19               0               0  ...                0   \n",
       "2019-01-26               0               0  ...                0   \n",
       "2019-02-02               0               0  ...                0   \n",
       "\n",
       "            Week_of_Year_44  Week_of_Year_45  Week_of_Year_46  \\\n",
       "2019-01-05                0                0                0   \n",
       "2019-01-12                0                0                0   \n",
       "2019-01-19                0                0                0   \n",
       "2019-01-26                0                0                0   \n",
       "2019-02-02                0                0                0   \n",
       "\n",
       "            Week_of_Year_47  Week_of_Year_48  Week_of_Year_49  \\\n",
       "2019-01-05                0                0                0   \n",
       "2019-01-12                0                0                0   \n",
       "2019-01-19                0                0                0   \n",
       "2019-01-26                0                0                0   \n",
       "2019-02-02                0                0                0   \n",
       "\n",
       "            Week_of_Year_50  Week_of_Year_51  Week_of_Year_52  \n",
       "2019-01-05                0                0                0  \n",
       "2019-01-12                0                0                0  \n",
       "2019-01-19                0                0                0  \n",
       "2019-01-26                0                0                0  \n",
       "2019-02-02                0                0                0  \n",
       "\n",
       "[5 rows x 53 columns]"
      ]
     },
     "execution_count": 144,
     "metadata": {},
     "output_type": "execute_result"
    }
   ],
   "source": [
    "# Binary encode the weekly column to use as new input features for the model\n",
    "X_binary_encoded = pd.get_dummies(X, columns=['Week_of_Year'])\n",
    "X_binary_encoded.head()"
   ]
  },
  {
   "cell_type": "code",
   "execution_count": 145,
   "metadata": {},
   "outputs": [
    {
     "data": {
      "text/html": [
       "<div>\n",
       "<style scoped>\n",
       "    .dataframe tbody tr th:only-of-type {\n",
       "        vertical-align: middle;\n",
       "    }\n",
       "\n",
       "    .dataframe tbody tr th {\n",
       "        vertical-align: top;\n",
       "    }\n",
       "\n",
       "    .dataframe thead th {\n",
       "        text-align: right;\n",
       "    }\n",
       "</style>\n",
       "<table border=\"1\" class=\"dataframe\">\n",
       "  <thead>\n",
       "    <tr style=\"text-align: right;\">\n",
       "      <th></th>\n",
       "      <th>Week_of_Year_1</th>\n",
       "      <th>Week_of_Year_2</th>\n",
       "      <th>Week_of_Year_3</th>\n",
       "      <th>Week_of_Year_4</th>\n",
       "      <th>Week_of_Year_5</th>\n",
       "      <th>Week_of_Year_6</th>\n",
       "      <th>Week_of_Year_7</th>\n",
       "      <th>Week_of_Year_8</th>\n",
       "      <th>Week_of_Year_9</th>\n",
       "      <th>Week_of_Year_10</th>\n",
       "      <th>...</th>\n",
       "      <th>Week_of_Year_43</th>\n",
       "      <th>Week_of_Year_44</th>\n",
       "      <th>Week_of_Year_45</th>\n",
       "      <th>Week_of_Year_46</th>\n",
       "      <th>Week_of_Year_47</th>\n",
       "      <th>Week_of_Year_48</th>\n",
       "      <th>Week_of_Year_49</th>\n",
       "      <th>Week_of_Year_50</th>\n",
       "      <th>Week_of_Year_51</th>\n",
       "      <th>Week_of_Year_52</th>\n",
       "    </tr>\n",
       "  </thead>\n",
       "  <tbody>\n",
       "    <tr>\n",
       "      <th>2019-01-05</th>\n",
       "      <td>1</td>\n",
       "      <td>0</td>\n",
       "      <td>0</td>\n",
       "      <td>0</td>\n",
       "      <td>0</td>\n",
       "      <td>0</td>\n",
       "      <td>0</td>\n",
       "      <td>0</td>\n",
       "      <td>0</td>\n",
       "      <td>0</td>\n",
       "      <td>...</td>\n",
       "      <td>0</td>\n",
       "      <td>0</td>\n",
       "      <td>0</td>\n",
       "      <td>0</td>\n",
       "      <td>0</td>\n",
       "      <td>0</td>\n",
       "      <td>0</td>\n",
       "      <td>0</td>\n",
       "      <td>0</td>\n",
       "      <td>0</td>\n",
       "    </tr>\n",
       "    <tr>\n",
       "      <th>2019-01-12</th>\n",
       "      <td>0</td>\n",
       "      <td>1</td>\n",
       "      <td>0</td>\n",
       "      <td>0</td>\n",
       "      <td>0</td>\n",
       "      <td>0</td>\n",
       "      <td>0</td>\n",
       "      <td>0</td>\n",
       "      <td>0</td>\n",
       "      <td>0</td>\n",
       "      <td>...</td>\n",
       "      <td>0</td>\n",
       "      <td>0</td>\n",
       "      <td>0</td>\n",
       "      <td>0</td>\n",
       "      <td>0</td>\n",
       "      <td>0</td>\n",
       "      <td>0</td>\n",
       "      <td>0</td>\n",
       "      <td>0</td>\n",
       "      <td>0</td>\n",
       "    </tr>\n",
       "    <tr>\n",
       "      <th>2019-01-19</th>\n",
       "      <td>0</td>\n",
       "      <td>0</td>\n",
       "      <td>1</td>\n",
       "      <td>0</td>\n",
       "      <td>0</td>\n",
       "      <td>0</td>\n",
       "      <td>0</td>\n",
       "      <td>0</td>\n",
       "      <td>0</td>\n",
       "      <td>0</td>\n",
       "      <td>...</td>\n",
       "      <td>0</td>\n",
       "      <td>0</td>\n",
       "      <td>0</td>\n",
       "      <td>0</td>\n",
       "      <td>0</td>\n",
       "      <td>0</td>\n",
       "      <td>0</td>\n",
       "      <td>0</td>\n",
       "      <td>0</td>\n",
       "      <td>0</td>\n",
       "    </tr>\n",
       "    <tr>\n",
       "      <th>2019-01-26</th>\n",
       "      <td>0</td>\n",
       "      <td>0</td>\n",
       "      <td>0</td>\n",
       "      <td>1</td>\n",
       "      <td>0</td>\n",
       "      <td>0</td>\n",
       "      <td>0</td>\n",
       "      <td>0</td>\n",
       "      <td>0</td>\n",
       "      <td>0</td>\n",
       "      <td>...</td>\n",
       "      <td>0</td>\n",
       "      <td>0</td>\n",
       "      <td>0</td>\n",
       "      <td>0</td>\n",
       "      <td>0</td>\n",
       "      <td>0</td>\n",
       "      <td>0</td>\n",
       "      <td>0</td>\n",
       "      <td>0</td>\n",
       "      <td>0</td>\n",
       "    </tr>\n",
       "    <tr>\n",
       "      <th>2019-02-02</th>\n",
       "      <td>0</td>\n",
       "      <td>0</td>\n",
       "      <td>0</td>\n",
       "      <td>0</td>\n",
       "      <td>1</td>\n",
       "      <td>0</td>\n",
       "      <td>0</td>\n",
       "      <td>0</td>\n",
       "      <td>0</td>\n",
       "      <td>0</td>\n",
       "      <td>...</td>\n",
       "      <td>0</td>\n",
       "      <td>0</td>\n",
       "      <td>0</td>\n",
       "      <td>0</td>\n",
       "      <td>0</td>\n",
       "      <td>0</td>\n",
       "      <td>0</td>\n",
       "      <td>0</td>\n",
       "      <td>0</td>\n",
       "      <td>0</td>\n",
       "    </tr>\n",
       "  </tbody>\n",
       "</table>\n",
       "<p>5 rows × 52 columns</p>\n",
       "</div>"
      ],
      "text/plain": [
       "            Week_of_Year_1  Week_of_Year_2  Week_of_Year_3  Week_of_Year_4  \\\n",
       "2019-01-05               1               0               0               0   \n",
       "2019-01-12               0               1               0               0   \n",
       "2019-01-19               0               0               1               0   \n",
       "2019-01-26               0               0               0               1   \n",
       "2019-02-02               0               0               0               0   \n",
       "\n",
       "            Week_of_Year_5  Week_of_Year_6  Week_of_Year_7  Week_of_Year_8  \\\n",
       "2019-01-05               0               0               0               0   \n",
       "2019-01-12               0               0               0               0   \n",
       "2019-01-19               0               0               0               0   \n",
       "2019-01-26               0               0               0               0   \n",
       "2019-02-02               1               0               0               0   \n",
       "\n",
       "            Week_of_Year_9  Week_of_Year_10  ...  Week_of_Year_43  \\\n",
       "2019-01-05               0                0  ...                0   \n",
       "2019-01-12               0                0  ...                0   \n",
       "2019-01-19               0                0  ...                0   \n",
       "2019-01-26               0                0  ...                0   \n",
       "2019-02-02               0                0  ...                0   \n",
       "\n",
       "            Week_of_Year_44  Week_of_Year_45  Week_of_Year_46  \\\n",
       "2019-01-05                0                0                0   \n",
       "2019-01-12                0                0                0   \n",
       "2019-01-19                0                0                0   \n",
       "2019-01-26                0                0                0   \n",
       "2019-02-02                0                0                0   \n",
       "\n",
       "            Week_of_Year_47  Week_of_Year_48  Week_of_Year_49  \\\n",
       "2019-01-05                0                0                0   \n",
       "2019-01-12                0                0                0   \n",
       "2019-01-19                0                0                0   \n",
       "2019-01-26                0                0                0   \n",
       "2019-02-02                0                0                0   \n",
       "\n",
       "            Week_of_Year_50  Week_of_Year_51  Week_of_Year_52  \n",
       "2019-01-05                0                0                0  \n",
       "2019-01-12                0                0                0  \n",
       "2019-01-19                0                0                0  \n",
       "2019-01-26                0                0                0  \n",
       "2019-02-02                0                0                0  \n",
       "\n",
       "[5 rows x 52 columns]"
      ]
     },
     "execution_count": 145,
     "metadata": {},
     "output_type": "execute_result"
    }
   ],
   "source": [
    "# The Acne Sales column must be deleted from the input features\n",
    "X_binary_encoded = X_binary_encoded.drop('Acne', axis=1)\n",
    "X_binary_encoded.head()"
   ]
  },
  {
   "cell_type": "code",
   "execution_count": 146,
   "metadata": {},
   "outputs": [],
   "source": [
    "# The target for our model is to predict the Acne Sales\n",
    "y = acne_df['Acne'].copy()"
   ]
  },
  {
   "cell_type": "code",
   "execution_count": 147,
   "metadata": {},
   "outputs": [],
   "source": [
    "# Create the Linear Regression model\n",
    "model = LinearRegression()\n",
    "\n",
    "# Fit the model to the data (Train the model)\n",
    "model.fit(X_binary_encoded, y)\n",
    "\n",
    "# Predict the sales using the week of the year as inputs\n",
    "predictions = model.predict(X_binary_encoded)"
   ]
  },
  {
   "cell_type": "code",
   "execution_count": 148,
   "metadata": {},
   "outputs": [
    {
     "name": "stdout",
     "output_type": "stream",
     "text": [
      "Score: 0.33348741423122075, r2: 0.33348741423122075\n"
     ]
    }
   ],
   "source": [
    "\n",
    "from sklearn.metrics import mean_squared_error, r2_score\n",
    "\n",
    "# The default scoring method is the R2 score\n",
    "score = model.score(X_binary_encoded, y)\n",
    "r2 = r2_score(y, predictions)\n",
    "\n",
    "print(f\"Score: {score}, r2: {r2}\")"
   ]
  },
  {
   "cell_type": "code",
   "execution_count": 149,
   "metadata": {},
   "outputs": [
    {
     "data": {
      "text/plain": [
       "771228956152.4368"
      ]
     },
     "execution_count": 149,
     "metadata": {},
     "output_type": "execute_result"
    }
   ],
   "source": [
    "# Mean Squared Error\n",
    "mse = mean_squared_error(y, predictions)\n",
    "mse"
   ]
  },
  {
   "cell_type": "code",
   "execution_count": 150,
   "metadata": {},
   "outputs": [
    {
     "data": {
      "text/plain": [
       "878196.4223067848"
      ]
     },
     "execution_count": 150,
     "metadata": {},
     "output_type": "execute_result"
    }
   ],
   "source": [
    "# Root Mean Squared Error\n",
    "rmse = np.sqrt(mse)\n",
    "rmse"
   ]
  },
  {
   "cell_type": "code",
   "execution_count": 151,
   "metadata": {},
   "outputs": [
    {
     "data": {
      "text/plain": [
       "1075690.8790404086"
      ]
     },
     "execution_count": 151,
     "metadata": {},
     "output_type": "execute_result"
    }
   ],
   "source": [
    "# Standard deviation\n",
    "np.std(y)"
   ]
  },
  {
   "cell_type": "code",
   "execution_count": 152,
   "metadata": {},
   "outputs": [
    {
     "data": {
      "text/plain": [
       "[<matplotlib.lines.Line2D at 0x1a8ad55df70>]"
      ]
     },
     "execution_count": 152,
     "metadata": {},
     "output_type": "execute_result"
    },
    {
     "data": {
      "image/png": "[encoded data removed]",
      "text/plain": [
       "<Figure size 432x288 with 1 Axes>"
      ]
     },
     "metadata": {
      "needs_background": "light"
     },
     "output_type": "display_data"
    }
   ],
   "source": [
    "plt.scatter(X['Week_of_Year'], y)\n",
    "plt.plot(X['Week_of_Year'], predictions, color='red')"
   ]
  },
  {
   "cell_type": "code",
   "execution_count": 153,
   "metadata": {},
   "outputs": [],
   "source": [
    "### This graph and R2 shows that we can only predict the sales based on what week of the year with a 12 % accuracy. "
   ]
  },
  {
   "cell_type": "code",
   "execution_count": 154,
   "metadata": {},
   "outputs": [],
   "source": [
    "## Re Running for Makeup as it is the second largest to "
   ]
  },
  {
   "cell_type": "code",
   "execution_count": 219,
   "metadata": {},
   "outputs": [],
   "source": [
    "X = makeup_df['Makeup'].to_frame()"
   ]
  },
  {
   "cell_type": "code",
   "execution_count": 220,
   "metadata": {},
   "outputs": [
    {
     "name": "stderr",
     "output_type": "stream",
     "text": [
      "<ipython-input-220-0d8505e88685>:2: FutureWarning: weekofyear and week have been deprecated, please use DatetimeIndex.isocalendar().week instead, which returns a Series.  To exactly reproduce the behavior of week and weekofyear and return an Index, you may call pd.Int64Index(idx.isocalendar().week)\n",
      "  X['Week_of_Year'] = X.index.weekofyear\n"
     ]
    },
    {
     "data": {
      "text/html": [
       "<div>\n",
       "<style scoped>\n",
       "    .dataframe tbody tr th:only-of-type {\n",
       "        vertical-align: middle;\n",
       "    }\n",
       "\n",
       "    .dataframe tbody tr th {\n",
       "        vertical-align: top;\n",
       "    }\n",
       "\n",
       "    .dataframe thead th {\n",
       "        text-align: right;\n",
       "    }\n",
       "</style>\n",
       "<table border=\"1\" class=\"dataframe\">\n",
       "  <thead>\n",
       "    <tr style=\"text-align: right;\">\n",
       "      <th></th>\n",
       "      <th>Makeup</th>\n",
       "      <th>Week_of_Year</th>\n",
       "    </tr>\n",
       "  </thead>\n",
       "  <tbody>\n",
       "    <tr>\n",
       "      <th>2019-01-05</th>\n",
       "      <td>7156661</td>\n",
       "      <td>1</td>\n",
       "    </tr>\n",
       "    <tr>\n",
       "      <th>2019-01-12</th>\n",
       "      <td>7188663</td>\n",
       "      <td>2</td>\n",
       "    </tr>\n",
       "    <tr>\n",
       "      <th>2019-01-19</th>\n",
       "      <td>7173238</td>\n",
       "      <td>3</td>\n",
       "    </tr>\n",
       "    <tr>\n",
       "      <th>2019-01-26</th>\n",
       "      <td>6851425</td>\n",
       "      <td>4</td>\n",
       "    </tr>\n",
       "    <tr>\n",
       "      <th>2019-02-02</th>\n",
       "      <td>6745738</td>\n",
       "      <td>5</td>\n",
       "    </tr>\n",
       "  </tbody>\n",
       "</table>\n",
       "</div>"
      ],
      "text/plain": [
       "             Makeup  Week_of_Year\n",
       "2019-01-05  7156661             1\n",
       "2019-01-12  7188663             2\n",
       "2019-01-19  7173238             3\n",
       "2019-01-26  6851425             4\n",
       "2019-02-02  6745738             5"
      ]
     },
     "execution_count": 220,
     "metadata": {},
     "output_type": "execute_result"
    }
   ],
   "source": [
    "# Generate a column with the week of the year\n",
    "X['Week_of_Year'] = X.index.weekofyear\n",
    "X.head()"
   ]
  },
  {
   "cell_type": "code",
   "execution_count": 221,
   "metadata": {},
   "outputs": [],
   "source": [
    "makeup_week=X.copy()"
   ]
  },
  {
   "cell_type": "code",
   "execution_count": 222,
   "metadata": {},
   "outputs": [
    {
     "data": {
      "text/plain": [
       "<AxesSubplot:xlabel='Week_of_Year', ylabel='Makeup'>"
      ]
     },
     "execution_count": 222,
     "metadata": {},
     "output_type": "execute_result"
    },
    {
     "data": {
      "image/png": "[encoded data removed]",
      "text/plain": [
       "<Figure size 432x288 with 1 Axes>"
      ]
     },
     "metadata": {
      "needs_background": "light"
     },
     "output_type": "display_data"
    }
   ],
   "source": [
    "X.plot(x= \"Week_of_Year\", y=\"Makeup\", kind=\"scatter\")"
   ]
  },
  {
   "cell_type": "code",
   "execution_count": 223,
   "metadata": {},
   "outputs": [],
   "source": [
    "X_binary_encoded = pd.get_dummies(X, columns=['Week_of_Year'])\n",
    "X_binary_encoded = X_binary_encoded.drop('Makeup', axis=1)"
   ]
  },
  {
   "cell_type": "code",
   "execution_count": 162,
   "metadata": {},
   "outputs": [],
   "source": [
    "y = makeup_df['Makeup'].copy()"
   ]
  },
  {
   "cell_type": "code",
   "execution_count": 163,
   "metadata": {},
   "outputs": [],
   "source": [
    "# Create the Linear Regression model\n",
    "model = LinearRegression()\n",
    "\n",
    "# Fit the model to the data (Train the model)\n",
    "model.fit(X_binary_encoded, y)\n",
    "\n",
    "# Predict the sales using the week of the year as inputs\n",
    "predictions = model.predict(X_binary_encoded)"
   ]
  },
  {
   "cell_type": "code",
   "execution_count": 164,
   "metadata": {},
   "outputs": [
    {
     "name": "stdout",
     "output_type": "stream",
     "text": [
      "Score: 0.28147858064481623, r2: 0.28147858064481623\n"
     ]
    }
   ],
   "source": [
    "from sklearn.metrics import mean_squared_error, r2_score\n",
    "\n",
    "# The default scoring method is the R2 score\n",
    "score = model.score(X_binary_encoded, y)\n",
    "r2 = r2_score(y, predictions)\n",
    "\n",
    "print(f\"Score: {score}, r2: {r2}\")"
   ]
  },
  {
   "cell_type": "code",
   "execution_count": 165,
   "metadata": {},
   "outputs": [
    {
     "data": {
      "text/plain": [
       "1039189571641.3334"
      ]
     },
     "execution_count": 165,
     "metadata": {},
     "output_type": "execute_result"
    }
   ],
   "source": [
    "# Mean Squared Error\n",
    "mse = mean_squared_error(y, predictions)\n",
    "mse"
   ]
  },
  {
   "cell_type": "code",
   "execution_count": 166,
   "metadata": {},
   "outputs": [
    {
     "data": {
      "text/plain": [
       "[<matplotlib.lines.Line2D at 0x1a8ad6b2c70>]"
      ]
     },
     "execution_count": 166,
     "metadata": {},
     "output_type": "execute_result"
    },
    {
     "data": {
      "image/png": "[encoded data removed]",
      "text/plain": [
       "<Figure size 432x288 with 1 Axes>"
      ]
     },
     "metadata": {
      "needs_background": "light"
     },
     "output_type": "display_data"
    }
   ],
   "source": [
    "plt.scatter(X['Week_of_Year'], y)\n",
    "plt.plot(X['Week_of_Year'], predictions, color='red')"
   ]
  },
  {
   "cell_type": "code",
   "execution_count": null,
   "metadata": {},
   "outputs": [],
   "source": [
    "## Now trying Lotion data"
   ]
  },
  {
   "cell_type": "code",
   "execution_count": 226,
   "metadata": {},
   "outputs": [],
   "source": [
    "X = lotion_df['Lotion'].to_frame()\n"
   ]
  },
  {
   "cell_type": "code",
   "execution_count": 227,
   "metadata": {},
   "outputs": [
    {
     "name": "stderr",
     "output_type": "stream",
     "text": [
      "<ipython-input-227-0d8505e88685>:2: FutureWarning: weekofyear and week have been deprecated, please use DatetimeIndex.isocalendar().week instead, which returns a Series.  To exactly reproduce the behavior of week and weekofyear and return an Index, you may call pd.Int64Index(idx.isocalendar().week)\n",
      "  X['Week_of_Year'] = X.index.weekofyear\n"
     ]
    },
    {
     "data": {
      "text/html": [
       "<div>\n",
       "<style scoped>\n",
       "    .dataframe tbody tr th:only-of-type {\n",
       "        vertical-align: middle;\n",
       "    }\n",
       "\n",
       "    .dataframe tbody tr th {\n",
       "        vertical-align: top;\n",
       "    }\n",
       "\n",
       "    .dataframe thead th {\n",
       "        text-align: right;\n",
       "    }\n",
       "</style>\n",
       "<table border=\"1\" class=\"dataframe\">\n",
       "  <thead>\n",
       "    <tr style=\"text-align: right;\">\n",
       "      <th></th>\n",
       "      <th>Lotion</th>\n",
       "      <th>Week_of_Year</th>\n",
       "    </tr>\n",
       "  </thead>\n",
       "  <tbody>\n",
       "    <tr>\n",
       "      <th>2019-01-05</th>\n",
       "      <td>3227827</td>\n",
       "      <td>1</td>\n",
       "    </tr>\n",
       "    <tr>\n",
       "      <th>2019-01-12</th>\n",
       "      <td>3551875</td>\n",
       "      <td>2</td>\n",
       "    </tr>\n",
       "    <tr>\n",
       "      <th>2019-01-19</th>\n",
       "      <td>3435812</td>\n",
       "      <td>3</td>\n",
       "    </tr>\n",
       "    <tr>\n",
       "      <th>2019-01-26</th>\n",
       "      <td>3406859</td>\n",
       "      <td>4</td>\n",
       "    </tr>\n",
       "    <tr>\n",
       "      <th>2019-02-02</th>\n",
       "      <td>3754491</td>\n",
       "      <td>5</td>\n",
       "    </tr>\n",
       "  </tbody>\n",
       "</table>\n",
       "</div>"
      ],
      "text/plain": [
       "             Lotion  Week_of_Year\n",
       "2019-01-05  3227827             1\n",
       "2019-01-12  3551875             2\n",
       "2019-01-19  3435812             3\n",
       "2019-01-26  3406859             4\n",
       "2019-02-02  3754491             5"
      ]
     },
     "execution_count": 227,
     "metadata": {},
     "output_type": "execute_result"
    }
   ],
   "source": [
    "# Generate a column with the week of the year\n",
    "X['Week_of_Year'] = X.index.weekofyear\n",
    "X.head()"
   ]
  },
  {
   "cell_type": "code",
   "execution_count": 235,
   "metadata": {},
   "outputs": [
    {
     "data": {
      "text/plain": [
       "<AxesSubplot:xlabel='Week_of_Year', ylabel='Lotion'>"
      ]
     },
     "execution_count": 235,
     "metadata": {},
     "output_type": "execute_result"
    },
    {
     "data": {
      "image/png": "[encoded data removed]",
      "text/plain": [
       "<Figure size 432x288 with 1 Axes>"
      ]
     },
     "metadata": {
      "needs_background": "light"
     },
     "output_type": "display_data"
    }
   ],
   "source": [
    "X.plot(x= \"Week_of_Year\", y=\"Lotion\", kind=\"scatter\")"
   ]
  },
  {
   "cell_type": "code",
   "execution_count": 236,
   "metadata": {},
   "outputs": [
    {
     "data": {
      "text/html": [
       "<div>\n",
       "<style scoped>\n",
       "    .dataframe tbody tr th:only-of-type {\n",
       "        vertical-align: middle;\n",
       "    }\n",
       "\n",
       "    .dataframe tbody tr th {\n",
       "        vertical-align: top;\n",
       "    }\n",
       "\n",
       "    .dataframe thead th {\n",
       "        text-align: right;\n",
       "    }\n",
       "</style>\n",
       "<table border=\"1\" class=\"dataframe\">\n",
       "  <thead>\n",
       "    <tr style=\"text-align: right;\">\n",
       "      <th></th>\n",
       "      <th>Lotion</th>\n",
       "      <th>Week_of_Year_1</th>\n",
       "      <th>Week_of_Year_2</th>\n",
       "      <th>Week_of_Year_3</th>\n",
       "      <th>Week_of_Year_4</th>\n",
       "      <th>Week_of_Year_5</th>\n",
       "      <th>Week_of_Year_6</th>\n",
       "      <th>Week_of_Year_7</th>\n",
       "      <th>Week_of_Year_8</th>\n",
       "      <th>Week_of_Year_9</th>\n",
       "      <th>...</th>\n",
       "      <th>Week_of_Year_43</th>\n",
       "      <th>Week_of_Year_44</th>\n",
       "      <th>Week_of_Year_45</th>\n",
       "      <th>Week_of_Year_46</th>\n",
       "      <th>Week_of_Year_47</th>\n",
       "      <th>Week_of_Year_48</th>\n",
       "      <th>Week_of_Year_49</th>\n",
       "      <th>Week_of_Year_50</th>\n",
       "      <th>Week_of_Year_51</th>\n",
       "      <th>Week_of_Year_52</th>\n",
       "    </tr>\n",
       "  </thead>\n",
       "  <tbody>\n",
       "    <tr>\n",
       "      <th>2019-01-05</th>\n",
       "      <td>3227827</td>\n",
       "      <td>1</td>\n",
       "      <td>0</td>\n",
       "      <td>0</td>\n",
       "      <td>0</td>\n",
       "      <td>0</td>\n",
       "      <td>0</td>\n",
       "      <td>0</td>\n",
       "      <td>0</td>\n",
       "      <td>0</td>\n",
       "      <td>...</td>\n",
       "      <td>0</td>\n",
       "      <td>0</td>\n",
       "      <td>0</td>\n",
       "      <td>0</td>\n",
       "      <td>0</td>\n",
       "      <td>0</td>\n",
       "      <td>0</td>\n",
       "      <td>0</td>\n",
       "      <td>0</td>\n",
       "      <td>0</td>\n",
       "    </tr>\n",
       "    <tr>\n",
       "      <th>2019-01-12</th>\n",
       "      <td>3551875</td>\n",
       "      <td>0</td>\n",
       "      <td>1</td>\n",
       "      <td>0</td>\n",
       "      <td>0</td>\n",
       "      <td>0</td>\n",
       "      <td>0</td>\n",
       "      <td>0</td>\n",
       "      <td>0</td>\n",
       "      <td>0</td>\n",
       "      <td>...</td>\n",
       "      <td>0</td>\n",
       "      <td>0</td>\n",
       "      <td>0</td>\n",
       "      <td>0</td>\n",
       "      <td>0</td>\n",
       "      <td>0</td>\n",
       "      <td>0</td>\n",
       "      <td>0</td>\n",
       "      <td>0</td>\n",
       "      <td>0</td>\n",
       "    </tr>\n",
       "    <tr>\n",
       "      <th>2019-01-19</th>\n",
       "      <td>3435812</td>\n",
       "      <td>0</td>\n",
       "      <td>0</td>\n",
       "      <td>1</td>\n",
       "      <td>0</td>\n",
       "      <td>0</td>\n",
       "      <td>0</td>\n",
       "      <td>0</td>\n",
       "      <td>0</td>\n",
       "      <td>0</td>\n",
       "      <td>...</td>\n",
       "      <td>0</td>\n",
       "      <td>0</td>\n",
       "      <td>0</td>\n",
       "      <td>0</td>\n",
       "      <td>0</td>\n",
       "      <td>0</td>\n",
       "      <td>0</td>\n",
       "      <td>0</td>\n",
       "      <td>0</td>\n",
       "      <td>0</td>\n",
       "    </tr>\n",
       "    <tr>\n",
       "      <th>2019-01-26</th>\n",
       "      <td>3406859</td>\n",
       "      <td>0</td>\n",
       "      <td>0</td>\n",
       "      <td>0</td>\n",
       "      <td>1</td>\n",
       "      <td>0</td>\n",
       "      <td>0</td>\n",
       "      <td>0</td>\n",
       "      <td>0</td>\n",
       "      <td>0</td>\n",
       "      <td>...</td>\n",
       "      <td>0</td>\n",
       "      <td>0</td>\n",
       "      <td>0</td>\n",
       "      <td>0</td>\n",
       "      <td>0</td>\n",
       "      <td>0</td>\n",
       "      <td>0</td>\n",
       "      <td>0</td>\n",
       "      <td>0</td>\n",
       "      <td>0</td>\n",
       "    </tr>\n",
       "    <tr>\n",
       "      <th>2019-02-02</th>\n",
       "      <td>3754491</td>\n",
       "      <td>0</td>\n",
       "      <td>0</td>\n",
       "      <td>0</td>\n",
       "      <td>0</td>\n",
       "      <td>1</td>\n",
       "      <td>0</td>\n",
       "      <td>0</td>\n",
       "      <td>0</td>\n",
       "      <td>0</td>\n",
       "      <td>...</td>\n",
       "      <td>0</td>\n",
       "      <td>0</td>\n",
       "      <td>0</td>\n",
       "      <td>0</td>\n",
       "      <td>0</td>\n",
       "      <td>0</td>\n",
       "      <td>0</td>\n",
       "      <td>0</td>\n",
       "      <td>0</td>\n",
       "      <td>0</td>\n",
       "    </tr>\n",
       "  </tbody>\n",
       "</table>\n",
       "<p>5 rows × 53 columns</p>\n",
       "</div>"
      ],
      "text/plain": [
       "             Lotion  Week_of_Year_1  Week_of_Year_2  Week_of_Year_3  \\\n",
       "2019-01-05  3227827               1               0               0   \n",
       "2019-01-12  3551875               0               1               0   \n",
       "2019-01-19  3435812               0               0               1   \n",
       "2019-01-26  3406859               0               0               0   \n",
       "2019-02-02  3754491               0               0               0   \n",
       "\n",
       "            Week_of_Year_4  Week_of_Year_5  Week_of_Year_6  Week_of_Year_7  \\\n",
       "2019-01-05               0               0               0               0   \n",
       "2019-01-12               0               0               0               0   \n",
       "2019-01-19               0               0               0               0   \n",
       "2019-01-26               1               0               0               0   \n",
       "2019-02-02               0               1               0               0   \n",
       "\n",
       "            Week_of_Year_8  Week_of_Year_9  ...  Week_of_Year_43  \\\n",
       "2019-01-05               0               0  ...                0   \n",
       "2019-01-12               0               0  ...                0   \n",
       "2019-01-19               0               0  ...                0   \n",
       "2019-01-26               0               0  ...                0   \n",
       "2019-02-02               0               0  ...                0   \n",
       "\n",
       "            Week_of_Year_44  Week_of_Year_45  Week_of_Year_46  \\\n",
       "2019-01-05                0                0                0   \n",
       "2019-01-12                0                0                0   \n",
       "2019-01-19                0                0                0   \n",
       "2019-01-26                0                0                0   \n",
       "2019-02-02                0                0                0   \n",
       "\n",
       "            Week_of_Year_47  Week_of_Year_48  Week_of_Year_49  \\\n",
       "2019-01-05                0                0                0   \n",
       "2019-01-12                0                0                0   \n",
       "2019-01-19                0                0                0   \n",
       "2019-01-26                0                0                0   \n",
       "2019-02-02                0                0                0   \n",
       "\n",
       "            Week_of_Year_50  Week_of_Year_51  Week_of_Year_52  \n",
       "2019-01-05                0                0                0  \n",
       "2019-01-12                0                0                0  \n",
       "2019-01-19                0                0                0  \n",
       "2019-01-26                0                0                0  \n",
       "2019-02-02                0                0                0  \n",
       "\n",
       "[5 rows x 53 columns]"
      ]
     },
     "execution_count": 236,
     "metadata": {},
     "output_type": "execute_result"
    }
   ],
   "source": [
    "# Binary encode the weekly column to use as new input features for the model\n",
    "X_binary_encoded = pd.get_dummies(X, columns=['Week_of_Year'])\n",
    "X_binary_encoded.head()"
   ]
  },
  {
   "cell_type": "code",
   "execution_count": 237,
   "metadata": {},
   "outputs": [],
   "source": [
    "# The Acne Sales column must be deleted from the input features\n",
    "X_binary_encoded = X_binary_encoded.drop(\"Lotion\", axis=1)\n"
   ]
  },
  {
   "cell_type": "code",
   "execution_count": 238,
   "metadata": {},
   "outputs": [],
   "source": [
    "y = lotion_df['Lotion'].copy()"
   ]
  },
  {
   "cell_type": "code",
   "execution_count": 239,
   "metadata": {},
   "outputs": [],
   "source": [
    "# Create the Linear Regression model\n",
    "model = LinearRegression()\n",
    "\n",
    "# Fit the model to the data (Train the model)\n",
    "model.fit(X_binary_encoded, y)\n",
    "\n",
    "# Predict the sales using the week of the year as inputs\n",
    "predictions = model.predict(X_binary_encoded)"
   ]
  },
  {
   "cell_type": "code",
   "execution_count": 240,
   "metadata": {},
   "outputs": [
    {
     "name": "stdout",
     "output_type": "stream",
     "text": [
      "Score: 0.8408367956279723, r2: 0.8408367956279723\n"
     ]
    }
   ],
   "source": [
    "from sklearn.metrics import mean_squared_error, r2_score\n",
    "\n",
    "# The default scoring method is the R2 score\n",
    "score = model.score(X_binary_encoded, y)\n",
    "r2 = r2_score(y, predictions)\n",
    "\n",
    "print(f\"Score: {score}, r2: {r2}\")"
   ]
  },
  {
   "cell_type": "code",
   "execution_count": 241,
   "metadata": {},
   "outputs": [
    {
     "data": {
      "text/plain": [
       "32796690513.770115"
      ]
     },
     "execution_count": 241,
     "metadata": {},
     "output_type": "execute_result"
    }
   ],
   "source": [
    "# Mean Squared Error\n",
    "mse = mean_squared_error(y, predictions)\n",
    "mse"
   ]
  },
  {
   "cell_type": "code",
   "execution_count": 244,
   "metadata": {},
   "outputs": [
    {
     "data": {
      "text/plain": [
       "[<matplotlib.lines.Line2D at 0x1a8adecfdc0>]"
      ]
     },
     "execution_count": 244,
     "metadata": {},
     "output_type": "execute_result"
    },
    {
     "data": {
      "image/png": "[encoded data removed]",
      "text/plain": [
       "<Figure size 432x288 with 1 Axes>"
      ]
     },
     "metadata": {
      "needs_background": "light"
     },
     "output_type": "display_data"
    }
   ],
   "source": [
    "plt.scatter(X['Week_of_Year'], y)\n",
    "plt.plot(X['Week_of_Year'], predictions, color='red')"
   ]
  },
  {
   "cell_type": "code",
   "execution_count": null,
   "metadata": {},
   "outputs": [],
   "source": [
    "## The Lotion was the strongest model with 82% model fit for having the week predict the sales outcome"
   ]
  },
  {
   "cell_type": "code",
   "execution_count": null,
   "metadata": {},
   "outputs": [],
   "source": []
  },
  {
   "cell_type": "code",
   "execution_count": null,
   "metadata": {},
   "outputs": [],
   "source": []
  },
  {
   "cell_type": "code",
   "execution_count": 167,
   "metadata": {},
   "outputs": [],
   "source": [
    "### Now trying to determine if promos effect sales using A/B Testing ###\n"
   ]
  },
  {
   "cell_type": "code",
   "execution_count": 168,
   "metadata": {},
   "outputs": [],
   "source": [
    "### Code below implementeed from https://harvard-iacs.github.io/2018-CS109A/lectures/lecture-23/demo/ ###"
   ]
  },
  {
   "cell_type": "code",
   "execution_count": 169,
   "metadata": {},
   "outputs": [],
   "source": [
    "# H(NULL)=The Promos have no effect on sales\n",
    "# H1== Promos have an effect on sales price"
   ]
  },
  {
   "cell_type": "code",
   "execution_count": 170,
   "metadata": {},
   "outputs": [],
   "source": [
    "## ACNE TEST"
   ]
  },
  {
   "cell_type": "code",
   "execution_count": 171,
   "metadata": {},
   "outputs": [],
   "source": [
    "acne_df=acne_df.astype(int)\n",
    "acne_df1=acne_df.dropna()"
   ]
  },
  {
   "cell_type": "code",
   "execution_count": 172,
   "metadata": {
    "scrolled": false
   },
   "outputs": [],
   "source": [
    "#creating the sales and promo measures for each group\n",
    "controlgroup = acne_df1['Acne'][acne_df1['acne_promo']==0]\n",
    "trt1group = acne_df1['Acne'][acne_df1['acne_promo']==1]\n"
   ]
  },
  {
   "cell_type": "code",
   "execution_count": 173,
   "metadata": {},
   "outputs": [],
   "source": [
    "\n",
    "# The two-sample t-test is used to test whether the unknown means of two groups are equal or not."
   ]
  },
  {
   "cell_type": "code",
   "execution_count": 174,
   "metadata": {},
   "outputs": [
    {
     "data": {
      "text/plain": [
       "Ttest_indResult(statistic=1.7895290850337586, pvalue=0.07709126658691197)"
      ]
     },
     "execution_count": 174,
     "metadata": {},
     "output_type": "execute_result"
    }
   ],
   "source": [
    "#two sample t-test testing promo and non promo group\n",
    "sp.stats.ttest_ind(controlgroup,trt1group)"
   ]
  },
  {
   "cell_type": "code",
   "execution_count": 175,
   "metadata": {},
   "outputs": [
    {
     "data": {
      "text/plain": [
       "F_onewayResult(statistic=3.202414346181755, pvalue=0.07709126658691216)"
      ]
     },
     "execution_count": 175,
     "metadata": {},
     "output_type": "execute_result"
    }
   ],
   "source": [
    "#ANOVA F-test\n",
    "sp.stats.f_oneway(controlgroup,trt1group)"
   ]
  },
  {
   "cell_type": "code",
   "execution_count": 176,
   "metadata": {},
   "outputs": [],
   "source": [
    "## P <.05 so we reject the NULL Hyptohesis and conclude that promos are affecting sales performance. "
   ]
  },
  {
   "cell_type": "code",
   "execution_count": 177,
   "metadata": {},
   "outputs": [],
   "source": [
    "##insert graph here"
   ]
  },
  {
   "cell_type": "code",
   "execution_count": 178,
   "metadata": {
    "scrolled": true
   },
   "outputs": [
    {
     "data": {
      "image/png": "[encoded data removed]",
      "text/plain": [
       "<Figure size 1440x720 with 1 Axes>"
      ]
     },
     "metadata": {
      "needs_background": "light"
     },
     "output_type": "display_data"
    }
   ],
   "source": [
    "fig = plt.figure(figsize= (20, 10))\n",
    "ax = fig.add_subplot(111)\n",
    "\n",
    "\n",
    "p_bp_male = plt.hist(acne_df1['Acne'][acne_df1['acne_promo']==0], label= \"Non-Promos\",color=\"red\",\n",
    "                     density= True,\n",
    "                     alpha=0.75)\n",
    "p_bp_female = plt.hist(acne_df1['Acne'][acne_df1['acne_promo']==1], label= \"Promos\",color=\"blue\",\n",
    "                       density= True,\n",
    "                       alpha=0.75)\n",
    "\n",
    "\n",
    "plt.suptitle(\"Promo vs. Non- Promo Sales\", fontsize= 20)\n",
    "plt.xlabel(\"Sales\", fontsize= 16)\n",
    "plt.ylabel(\"Probability density\", fontsize= 16)\n",
    "\n",
    "\n",
    "\n",
    "plt.show()\n"
   ]
  },
  {
   "cell_type": "code",
   "execution_count": 254,
   "metadata": {},
   "outputs": [],
   "source": [
    "##Using Makeup"
   ]
  },
  {
   "cell_type": "code",
   "execution_count": 255,
   "metadata": {},
   "outputs": [],
   "source": [
    "#creating the sales and promo measures for each group\n",
    "controlgroup = makeup_df['Makeup'][makeup_df['makeup_promo']==0]\n",
    "trt1group = makeup_df['Makeup'][makeup_df['makeup_promo']==1]\n"
   ]
  },
  {
   "cell_type": "code",
   "execution_count": 256,
   "metadata": {},
   "outputs": [
    {
     "data": {
      "text/plain": [
       "Ttest_indResult(statistic=9.287425196321568, pvalue=1.4139045808058168e-14)"
      ]
     },
     "execution_count": 256,
     "metadata": {},
     "output_type": "execute_result"
    }
   ],
   "source": [
    "#two sample t-test testing promo and non promo group\n",
    "sp.stats.ttest_ind(controlgroup,trt1group)"
   ]
  },
  {
   "cell_type": "code",
   "execution_count": 257,
   "metadata": {},
   "outputs": [
    {
     "data": {
      "text/plain": [
       "F_onewayResult(statistic=86.25626677726864, pvalue=1.413904580805835e-14)"
      ]
     },
     "execution_count": 257,
     "metadata": {},
     "output_type": "execute_result"
    }
   ],
   "source": [
    "#ANOVA F-test\n",
    "sp.stats.f_oneway(controlgroup,trt1group)"
   ]
  },
  {
   "cell_type": "code",
   "execution_count": 258,
   "metadata": {},
   "outputs": [
    {
     "data": {
      "image/png": "[encoded data removed]",
      "text/plain": [
       "<Figure size 1440x720 with 1 Axes>"
      ]
     },
     "metadata": {
      "needs_background": "light"
     },
     "output_type": "display_data"
    }
   ],
   "source": [
    "fig = plt.figure(figsize= (20, 10))\n",
    "ax = fig.add_subplot(111)\n",
    "\n",
    "\n",
    "p_bp_male = plt.hist(makeup_df['Makeup'][makeup_df['makeup_promo']==0], label= \"Non-Promos\",color=\"red\",\n",
    "                     density= True,\n",
    "                     alpha=0.75)\n",
    "p_bp_female = plt.hist(makeup_df['Makeup'][makeup_df['makeup_promo']==1], label= \"Promos\",color=\"blue\",\n",
    "                       density= True,\n",
    "                       alpha=0.75)\n",
    "\n",
    "\n",
    "plt.suptitle(\"Promo vs. Non- Promo Sales\", fontsize= 20)\n",
    "plt.xlabel(\"Sales\", fontsize= 16)\n",
    "plt.ylabel(\"Probability density\", fontsize= 16)\n",
    "\n",
    "\n",
    "\n",
    "plt.show()"
   ]
  },
  {
   "cell_type": "code",
   "execution_count": null,
   "metadata": {},
   "outputs": [],
   "source": [
    "## Using Lotion"
   ]
  },
  {
   "cell_type": "code",
   "execution_count": 259,
   "metadata": {},
   "outputs": [],
   "source": [
    "#creating the sales and promo measures for each group\n",
    "controlgroup = lotion_df['Lotion'][lotion_df['lotion_promo']==0]\n",
    "trt1group = lotion_df['Lotion'][lotion_df['lotion_promo']==1]\n"
   ]
  },
  {
   "cell_type": "code",
   "execution_count": 260,
   "metadata": {},
   "outputs": [
    {
     "data": {
      "text/plain": [
       "Ttest_indResult(statistic=-1.692361509021053, pvalue=0.09423981578713769)"
      ]
     },
     "execution_count": 260,
     "metadata": {},
     "output_type": "execute_result"
    }
   ],
   "source": [
    "#two sample t-test testing promo and non promo group\n",
    "sp.stats.ttest_ind(controlgroup,trt1group)"
   ]
  },
  {
   "cell_type": "code",
   "execution_count": 261,
   "metadata": {},
   "outputs": [
    {
     "data": {
      "text/plain": [
       "F_onewayResult(statistic=2.8640874772160125, pvalue=0.0942398157871378)"
      ]
     },
     "execution_count": 261,
     "metadata": {},
     "output_type": "execute_result"
    }
   ],
   "source": [
    "#ANOVA F-test\n",
    "sp.stats.f_oneway(controlgroup,trt1group)"
   ]
  },
  {
   "cell_type": "code",
   "execution_count": 263,
   "metadata": {},
   "outputs": [
    {
     "data": {
      "image/png": "[encoded data removed]",
      "text/plain": [
       "<Figure size 1440x720 with 1 Axes>"
      ]
     },
     "metadata": {
      "needs_background": "light"
     },
     "output_type": "display_data"
    }
   ],
   "source": [
    "fig = plt.figure(figsize= (20, 10))\n",
    "ax = fig.add_subplot(111)\n",
    "\n",
    "\n",
    "p_bp_male = plt.hist(lotion_df['Lotion'][lotion_df['lotion_promo']==0], label= \"Non-Promos\",color=\"red\",\n",
    "                     density= True,\n",
    "                     alpha=0.75)\n",
    "p_bp_female = plt.hist(lotion_df['Lotion'][lotion_df['lotion_promo']==1], label= \"Promos\",color=\"blue\",\n",
    "                       density= True,\n",
    "                       alpha=0.75)\n",
    "\n",
    "\n",
    "plt.suptitle(\"Promo vs. Non- Promo Sales\", fontsize= 20)\n",
    "plt.xlabel(\"Sales\", fontsize= 16)\n",
    "plt.ylabel(\"Probability density\", fontsize= 16)\n",
    "\n",
    "\n",
    "\n",
    "plt.show()"
   ]
  },
  {
   "cell_type": "code",
   "execution_count": null,
   "metadata": {},
   "outputs": [],
   "source": []
  },
  {
   "cell_type": "code",
   "execution_count": null,
   "metadata": {},
   "outputs": [],
   "source": []
  },
  {
   "cell_type": "code",
   "execution_count": 179,
   "metadata": {},
   "outputs": [],
   "source": [
    "## Running SVR PRediction on Acne Sales prices"
   ]
  },
  {
   "cell_type": "code",
   "execution_count": null,
   "metadata": {},
   "outputs": [],
   "source": []
  },
  {
   "cell_type": "code",
   "execution_count": 290,
   "metadata": {},
   "outputs": [
    {
     "data": {
      "text/html": [
       "<div>\n",
       "<style scoped>\n",
       "    .dataframe tbody tr th:only-of-type {\n",
       "        vertical-align: middle;\n",
       "    }\n",
       "\n",
       "    .dataframe tbody tr th {\n",
       "        vertical-align: top;\n",
       "    }\n",
       "\n",
       "    .dataframe thead th {\n",
       "        text-align: right;\n",
       "    }\n",
       "</style>\n",
       "<table border=\"1\" class=\"dataframe\">\n",
       "  <thead>\n",
       "    <tr style=\"text-align: right;\">\n",
       "      <th>Date</th>\n",
       "      <th>Acne</th>\n",
       "      <th>Week</th>\n",
       "    </tr>\n",
       "  </thead>\n",
       "  <tbody>\n",
       "    <tr>\n",
       "      <th>2019-01-05</th>\n",
       "      <td>14969813</td>\n",
       "      <td>1</td>\n",
       "    </tr>\n",
       "    <tr>\n",
       "      <th>2019-01-12</th>\n",
       "      <td>15488855</td>\n",
       "      <td>2</td>\n",
       "    </tr>\n",
       "    <tr>\n",
       "      <th>2019-01-19</th>\n",
       "      <td>15522357</td>\n",
       "      <td>3</td>\n",
       "    </tr>\n",
       "    <tr>\n",
       "      <th>2019-01-26</th>\n",
       "      <td>15054219</td>\n",
       "      <td>4</td>\n",
       "    </tr>\n",
       "    <tr>\n",
       "      <th>2019-02-02</th>\n",
       "      <td>14585357</td>\n",
       "      <td>5</td>\n",
       "    </tr>\n",
       "    <tr>\n",
       "      <th>...</th>\n",
       "      <td>...</td>\n",
       "      <td>...</td>\n",
       "    </tr>\n",
       "    <tr>\n",
       "      <th>2020-08-01</th>\n",
       "      <td>13517117</td>\n",
       "      <td>31</td>\n",
       "    </tr>\n",
       "    <tr>\n",
       "      <th>2020-08-08</th>\n",
       "      <td>13979460</td>\n",
       "      <td>32</td>\n",
       "    </tr>\n",
       "    <tr>\n",
       "      <th>2020-08-15</th>\n",
       "      <td>13920768</td>\n",
       "      <td>33</td>\n",
       "    </tr>\n",
       "    <tr>\n",
       "      <th>2020-08-22</th>\n",
       "      <td>13697476</td>\n",
       "      <td>34</td>\n",
       "    </tr>\n",
       "    <tr>\n",
       "      <th>2020-08-29</th>\n",
       "      <td>13103453</td>\n",
       "      <td>35</td>\n",
       "    </tr>\n",
       "  </tbody>\n",
       "</table>\n",
       "<p>87 rows × 2 columns</p>\n",
       "</div>"
      ],
      "text/plain": [
       "Date            Acne  Week\n",
       "2019-01-05  14969813     1\n",
       "2019-01-12  15488855     2\n",
       "2019-01-19  15522357     3\n",
       "2019-01-26  15054219     4\n",
       "2019-02-02  14585357     5\n",
       "...              ...   ...\n",
       "2020-08-01  13517117    31\n",
       "2020-08-08  13979460    32\n",
       "2020-08-15  13920768    33\n",
       "2020-08-22  13697476    34\n",
       "2020-08-29  13103453    35\n",
       "\n",
       "[87 rows x 2 columns]"
      ]
     },
     "execution_count": 290,
     "metadata": {},
     "output_type": "execute_result"
    }
   ],
   "source": [
    "acne_df"
   ]
  },
  {
   "cell_type": "code",
   "execution_count": 291,
   "metadata": {},
   "outputs": [],
   "source": [
    "\n",
    "X = acne_df.iloc[:,0].values     \n",
    "y = acne_df.iloc[:,1].values        "
   ]
  },
  {
   "cell_type": "code",
   "execution_count": 292,
   "metadata": {},
   "outputs": [],
   "source": [
    "# split the dataset into test set and train set\n",
    "from sklearn.model_selection import train_test_split\n",
    "X_train, X_test, y_train, y_test = train_test_split(X,y, test_size=0.2, random_state=1)"
   ]
  },
  {
   "cell_type": "code",
   "execution_count": 293,
   "metadata": {},
   "outputs": [
    {
     "data": {
      "text/plain": [
       "array([14157228, 14450238, 14853372])"
      ]
     },
     "execution_count": 293,
     "metadata": {},
     "output_type": "execute_result"
    }
   ],
   "source": [
    "X_train[:3]\n",
    "# some features are big in scale, so adjust the scale"
   ]
  },
  {
   "cell_type": "code",
   "execution_count": 294,
   "metadata": {},
   "outputs": [],
   "source": [
    " X_train= X_train.reshape(-1,1)\n",
    " y_train= y_train.reshape(-1,1)\n",
    " X_test = X_test.reshape(-1,1)"
   ]
  },
  {
   "cell_type": "code",
   "execution_count": 295,
   "metadata": {},
   "outputs": [],
   "source": [
    "from sklearn.preprocessing import StandardScaler\n",
    "sc_X = StandardScaler()\n",
    "X_train = sc_X.fit_transform(X_train)\n",
    "X_test = sc_X.transform(X_test)"
   ]
  },
  {
   "cell_type": "code",
   "execution_count": 296,
   "metadata": {},
   "outputs": [],
   "source": [
    "# PAY ATTENTION, WE ARE IMPORTING SVR, WHICH IS FOR REGRESSION\n",
    "from sklearn.svm import SVR"
   ]
  },
  {
   "cell_type": "code",
   "execution_count": 297,
   "metadata": {},
   "outputs": [],
   "source": [
    "regressor = SVR(kernel = 'rbf') # using rbf kernel\n",
    "# also, we here call it a regressor, since it is a regression\n",
    "\n",
    "# in SVC = support vector classification, many name it as a classifier"
   ]
  },
  {
   "cell_type": "code",
   "execution_count": 298,
   "metadata": {},
   "outputs": [
    {
     "name": "stderr",
     "output_type": "stream",
     "text": [
      "C:\\Users\\Dev\\Anaconda3\\envs\\tf\\lib\\site-packages\\sklearn\\utils\\validation.py:63: DataConversionWarning: A column-vector y was passed when a 1d array was expected. Please change the shape of y to (n_samples, ), for example using ravel().\n",
      "  return f(*args, **kwargs)\n"
     ]
    },
    {
     "data": {
      "text/plain": [
       "SVR()"
      ]
     },
     "execution_count": 298,
     "metadata": {},
     "output_type": "execute_result"
    }
   ],
   "source": [
    "regressor.fit(X_train, y_train)"
   ]
  },
  {
   "cell_type": "code",
   "execution_count": 299,
   "metadata": {},
   "outputs": [],
   "source": [
    "predictions = regressor.predict(X_test)"
   ]
  },
  {
   "cell_type": "code",
   "execution_count": 300,
   "metadata": {},
   "outputs": [
    {
     "data": {
      "text/plain": [
       "14.49798410132805"
      ]
     },
     "execution_count": 300,
     "metadata": {},
     "output_type": "execute_result"
    }
   ],
   "source": [
    "from sklearn.metrics import r2_score,mean_squared_error\n",
    "mse = mean_squared_error(y_test, predictions)\n",
    "rmse = np.sqrt(mse)\n",
    "rmse"
   ]
  },
  {
   "cell_type": "code",
   "execution_count": 301,
   "metadata": {},
   "outputs": [
    {
     "data": {
      "text/plain": [
       "0.08783739709663885"
      ]
     },
     "execution_count": 301,
     "metadata": {},
     "output_type": "execute_result"
    }
   ],
   "source": [
    "r2_score(y_test,predictions)"
   ]
  },
  {
   "cell_type": "code",
   "execution_count": 302,
   "metadata": {},
   "outputs": [
    {
     "data": {
      "image/png": "[encoded data removed]",
      "text/plain": [
       "<Figure size 432x288 with 1 Axes>"
      ]
     },
     "metadata": {
      "needs_background": "light"
     },
     "output_type": "display_data"
    }
   ],
   "source": [
    "# Visualising the Regression results\n",
    "plt.scatter(y_test, predictions, color = 'red')\n",
    "plt.plot(y_test, predictions, color = 'blue')\n",
    "plt.title('Predictions by Week of Year')\n",
    "plt.xlabel('Test Week')\n",
    "plt.ylabel('Predicted Week')\n",
    "plt.show()"
   ]
  },
  {
   "cell_type": "code",
   "execution_count": 303,
   "metadata": {},
   "outputs": [],
   "source": [
    "## Outsput shows that the model is only 8.2% accurate in prediction. "
   ]
  },
  {
   "cell_type": "code",
   "execution_count": null,
   "metadata": {},
   "outputs": [],
   "source": [
    "##Using Makeup"
   ]
  },
  {
   "cell_type": "code",
   "execution_count": 304,
   "metadata": {},
   "outputs": [
    {
     "data": {
      "text/html": [
       "<div>\n",
       "<style scoped>\n",
       "    .dataframe tbody tr th:only-of-type {\n",
       "        vertical-align: middle;\n",
       "    }\n",
       "\n",
       "    .dataframe tbody tr th {\n",
       "        vertical-align: top;\n",
       "    }\n",
       "\n",
       "    .dataframe thead th {\n",
       "        text-align: right;\n",
       "    }\n",
       "</style>\n",
       "<table border=\"1\" class=\"dataframe\">\n",
       "  <thead>\n",
       "    <tr style=\"text-align: right;\">\n",
       "      <th>Date</th>\n",
       "      <th>Makeup</th>\n",
       "      <th>makeup_promo</th>\n",
       "    </tr>\n",
       "  </thead>\n",
       "  <tbody>\n",
       "    <tr>\n",
       "      <th>2019-01-05</th>\n",
       "      <td>7156661</td>\n",
       "      <td>0</td>\n",
       "    </tr>\n",
       "    <tr>\n",
       "      <th>2019-01-12</th>\n",
       "      <td>7188663</td>\n",
       "      <td>0</td>\n",
       "    </tr>\n",
       "    <tr>\n",
       "      <th>2019-01-19</th>\n",
       "      <td>7173238</td>\n",
       "      <td>0</td>\n",
       "    </tr>\n",
       "    <tr>\n",
       "      <th>2019-01-26</th>\n",
       "      <td>6851425</td>\n",
       "      <td>0</td>\n",
       "    </tr>\n",
       "    <tr>\n",
       "      <th>2019-02-02</th>\n",
       "      <td>6745738</td>\n",
       "      <td>0</td>\n",
       "    </tr>\n",
       "  </tbody>\n",
       "</table>\n",
       "</div>"
      ],
      "text/plain": [
       "Date         Makeup  makeup_promo\n",
       "2019-01-05  7156661             0\n",
       "2019-01-12  7188663             0\n",
       "2019-01-19  7173238             0\n",
       "2019-01-26  6851425             0\n",
       "2019-02-02  6745738             0"
      ]
     },
     "execution_count": 304,
     "metadata": {},
     "output_type": "execute_result"
    }
   ],
   "source": [
    "makeup_df.head()"
   ]
  },
  {
   "cell_type": "code",
   "execution_count": 305,
   "metadata": {},
   "outputs": [
    {
     "data": {
      "text/html": [
       "<div>\n",
       "<style scoped>\n",
       "    .dataframe tbody tr th:only-of-type {\n",
       "        vertical-align: middle;\n",
       "    }\n",
       "\n",
       "    .dataframe tbody tr th {\n",
       "        vertical-align: top;\n",
       "    }\n",
       "\n",
       "    .dataframe thead th {\n",
       "        text-align: right;\n",
       "    }\n",
       "</style>\n",
       "<table border=\"1\" class=\"dataframe\">\n",
       "  <thead>\n",
       "    <tr style=\"text-align: right;\">\n",
       "      <th>Date</th>\n",
       "      <th>Makeup</th>\n",
       "    </tr>\n",
       "  </thead>\n",
       "  <tbody>\n",
       "    <tr>\n",
       "      <th>2019-01-05</th>\n",
       "      <td>7156661</td>\n",
       "    </tr>\n",
       "    <tr>\n",
       "      <th>2019-01-12</th>\n",
       "      <td>7188663</td>\n",
       "    </tr>\n",
       "    <tr>\n",
       "      <th>2019-01-19</th>\n",
       "      <td>7173238</td>\n",
       "    </tr>\n",
       "    <tr>\n",
       "      <th>2019-01-26</th>\n",
       "      <td>6851425</td>\n",
       "    </tr>\n",
       "    <tr>\n",
       "      <th>2019-02-02</th>\n",
       "      <td>6745738</td>\n",
       "    </tr>\n",
       "    <tr>\n",
       "      <th>...</th>\n",
       "      <td>...</td>\n",
       "    </tr>\n",
       "    <tr>\n",
       "      <th>2020-08-01</th>\n",
       "      <td>5422756</td>\n",
       "    </tr>\n",
       "    <tr>\n",
       "      <th>2020-08-08</th>\n",
       "      <td>5647887</td>\n",
       "    </tr>\n",
       "    <tr>\n",
       "      <th>2020-08-15</th>\n",
       "      <td>5619787</td>\n",
       "    </tr>\n",
       "    <tr>\n",
       "      <th>2020-08-22</th>\n",
       "      <td>5622940</td>\n",
       "    </tr>\n",
       "    <tr>\n",
       "      <th>2020-08-29</th>\n",
       "      <td>3488149</td>\n",
       "    </tr>\n",
       "  </tbody>\n",
       "</table>\n",
       "<p>87 rows × 1 columns</p>\n",
       "</div>"
      ],
      "text/plain": [
       "Date         Makeup\n",
       "2019-01-05  7156661\n",
       "2019-01-12  7188663\n",
       "2019-01-19  7173238\n",
       "2019-01-26  6851425\n",
       "2019-02-02  6745738\n",
       "...             ...\n",
       "2020-08-01  5422756\n",
       "2020-08-08  5647887\n",
       "2020-08-15  5619787\n",
       "2020-08-22  5622940\n",
       "2020-08-29  3488149\n",
       "\n",
       "[87 rows x 1 columns]"
      ]
     },
     "execution_count": 305,
     "metadata": {},
     "output_type": "execute_result"
    }
   ],
   "source": [
    "makeup_df.drop(columns=\"makeup_promo\")"
   ]
  },
  {
   "cell_type": "code",
   "execution_count": 307,
   "metadata": {},
   "outputs": [
    {
     "name": "stderr",
     "output_type": "stream",
     "text": [
      "<ipython-input-307-17e265cee42f>:1: FutureWarning: weekofyear and week have been deprecated, please use DatetimeIndex.isocalendar().week instead, which returns a Series.  To exactly reproduce the behavior of week and weekofyear and return an Index, you may call pd.Int64Index(idx.isocalendar().week)\n",
      "  makeup_df['Week'] = makeup_df.index.weekofyear\n"
     ]
    }
   ],
   "source": [
    "makeup_df['Week'] = makeup_df.index.weekofyear"
   ]
  },
  {
   "cell_type": "code",
   "execution_count": 308,
   "metadata": {
    "scrolled": true
   },
   "outputs": [
    {
     "data": {
      "text/html": [
       "<div>\n",
       "<style scoped>\n",
       "    .dataframe tbody tr th:only-of-type {\n",
       "        vertical-align: middle;\n",
       "    }\n",
       "\n",
       "    .dataframe tbody tr th {\n",
       "        vertical-align: top;\n",
       "    }\n",
       "\n",
       "    .dataframe thead th {\n",
       "        text-align: right;\n",
       "    }\n",
       "</style>\n",
       "<table border=\"1\" class=\"dataframe\">\n",
       "  <thead>\n",
       "    <tr style=\"text-align: right;\">\n",
       "      <th>Date</th>\n",
       "      <th>Makeup</th>\n",
       "      <th>makeup_promo</th>\n",
       "      <th>Week</th>\n",
       "    </tr>\n",
       "  </thead>\n",
       "  <tbody>\n",
       "    <tr>\n",
       "      <th>2019-01-05</th>\n",
       "      <td>7156661</td>\n",
       "      <td>0</td>\n",
       "      <td>1</td>\n",
       "    </tr>\n",
       "    <tr>\n",
       "      <th>2019-01-12</th>\n",
       "      <td>7188663</td>\n",
       "      <td>0</td>\n",
       "      <td>2</td>\n",
       "    </tr>\n",
       "    <tr>\n",
       "      <th>2019-01-19</th>\n",
       "      <td>7173238</td>\n",
       "      <td>0</td>\n",
       "      <td>3</td>\n",
       "    </tr>\n",
       "    <tr>\n",
       "      <th>2019-01-26</th>\n",
       "      <td>6851425</td>\n",
       "      <td>0</td>\n",
       "      <td>4</td>\n",
       "    </tr>\n",
       "    <tr>\n",
       "      <th>2019-02-02</th>\n",
       "      <td>6745738</td>\n",
       "      <td>0</td>\n",
       "      <td>5</td>\n",
       "    </tr>\n",
       "  </tbody>\n",
       "</table>\n",
       "</div>"
      ],
      "text/plain": [
       "Date         Makeup  makeup_promo  Week\n",
       "2019-01-05  7156661             0     1\n",
       "2019-01-12  7188663             0     2\n",
       "2019-01-19  7173238             0     3\n",
       "2019-01-26  6851425             0     4\n",
       "2019-02-02  6745738             0     5"
      ]
     },
     "execution_count": 308,
     "metadata": {},
     "output_type": "execute_result"
    }
   ],
   "source": [
    "makeup_df.head()"
   ]
  },
  {
   "cell_type": "code",
   "execution_count": 309,
   "metadata": {},
   "outputs": [
    {
     "data": {
      "text/html": [
       "<div>\n",
       "<style scoped>\n",
       "    .dataframe tbody tr th:only-of-type {\n",
       "        vertical-align: middle;\n",
       "    }\n",
       "\n",
       "    .dataframe tbody tr th {\n",
       "        vertical-align: top;\n",
       "    }\n",
       "\n",
       "    .dataframe thead th {\n",
       "        text-align: right;\n",
       "    }\n",
       "</style>\n",
       "<table border=\"1\" class=\"dataframe\">\n",
       "  <thead>\n",
       "    <tr style=\"text-align: right;\">\n",
       "      <th>Date</th>\n",
       "      <th>Makeup</th>\n",
       "      <th>Week</th>\n",
       "    </tr>\n",
       "  </thead>\n",
       "  <tbody>\n",
       "    <tr>\n",
       "      <th>2019-01-05</th>\n",
       "      <td>7156661</td>\n",
       "      <td>1</td>\n",
       "    </tr>\n",
       "    <tr>\n",
       "      <th>2019-01-12</th>\n",
       "      <td>7188663</td>\n",
       "      <td>2</td>\n",
       "    </tr>\n",
       "    <tr>\n",
       "      <th>2019-01-19</th>\n",
       "      <td>7173238</td>\n",
       "      <td>3</td>\n",
       "    </tr>\n",
       "    <tr>\n",
       "      <th>2019-01-26</th>\n",
       "      <td>6851425</td>\n",
       "      <td>4</td>\n",
       "    </tr>\n",
       "    <tr>\n",
       "      <th>2019-02-02</th>\n",
       "      <td>6745738</td>\n",
       "      <td>5</td>\n",
       "    </tr>\n",
       "    <tr>\n",
       "      <th>...</th>\n",
       "      <td>...</td>\n",
       "      <td>...</td>\n",
       "    </tr>\n",
       "    <tr>\n",
       "      <th>2020-08-01</th>\n",
       "      <td>5422756</td>\n",
       "      <td>31</td>\n",
       "    </tr>\n",
       "    <tr>\n",
       "      <th>2020-08-08</th>\n",
       "      <td>5647887</td>\n",
       "      <td>32</td>\n",
       "    </tr>\n",
       "    <tr>\n",
       "      <th>2020-08-15</th>\n",
       "      <td>5619787</td>\n",
       "      <td>33</td>\n",
       "    </tr>\n",
       "    <tr>\n",
       "      <th>2020-08-22</th>\n",
       "      <td>5622940</td>\n",
       "      <td>34</td>\n",
       "    </tr>\n",
       "    <tr>\n",
       "      <th>2020-08-29</th>\n",
       "      <td>3488149</td>\n",
       "      <td>35</td>\n",
       "    </tr>\n",
       "  </tbody>\n",
       "</table>\n",
       "<p>87 rows × 2 columns</p>\n",
       "</div>"
      ],
      "text/plain": [
       "Date         Makeup  Week\n",
       "2019-01-05  7156661     1\n",
       "2019-01-12  7188663     2\n",
       "2019-01-19  7173238     3\n",
       "2019-01-26  6851425     4\n",
       "2019-02-02  6745738     5\n",
       "...             ...   ...\n",
       "2020-08-01  5422756    31\n",
       "2020-08-08  5647887    32\n",
       "2020-08-15  5619787    33\n",
       "2020-08-22  5622940    34\n",
       "2020-08-29  3488149    35\n",
       "\n",
       "[87 rows x 2 columns]"
      ]
     },
     "execution_count": 309,
     "metadata": {},
     "output_type": "execute_result"
    }
   ],
   "source": [
    "makeup_df.drop(columns=\"makeup_promo\")"
   ]
  },
  {
   "cell_type": "code",
   "execution_count": null,
   "metadata": {},
   "outputs": [],
   "source": []
  },
  {
   "cell_type": "code",
   "execution_count": 310,
   "metadata": {},
   "outputs": [],
   "source": [
    "\n",
    "X = makeup_df.iloc[:,0].values     \n",
    "y = makeup_df.iloc[:,1].values        "
   ]
  },
  {
   "cell_type": "code",
   "execution_count": 311,
   "metadata": {},
   "outputs": [],
   "source": [
    "# split the dataset into test set and train set\n",
    "from sklearn.model_selection import train_test_split\n",
    "X_train, X_test, y_train, y_test = train_test_split(X,y, test_size=0.2, random_state=1)"
   ]
  },
  {
   "cell_type": "code",
   "execution_count": 312,
   "metadata": {},
   "outputs": [
    {
     "data": {
      "text/plain": [
       "array([4468112, 7142890, 7418561])"
      ]
     },
     "execution_count": 312,
     "metadata": {},
     "output_type": "execute_result"
    }
   ],
   "source": [
    "X_train[:3]\n",
    "# some features are big in scale, so adjust the scale"
   ]
  },
  {
   "cell_type": "code",
   "execution_count": 314,
   "metadata": {},
   "outputs": [],
   "source": [
    "X_train= X_train.reshape(-1,1)\n",
    "y_train= y_train.reshape(-1,1)\n",
    "X_test = X_test.reshape(-1,1)"
   ]
  },
  {
   "cell_type": "code",
   "execution_count": 315,
   "metadata": {},
   "outputs": [],
   "source": [
    "from sklearn.preprocessing import StandardScaler\n",
    "sc_X = StandardScaler()\n",
    "X_train = sc_X.fit_transform(X_train)\n",
    "X_test = sc_X.transform(X_test)"
   ]
  },
  {
   "cell_type": "code",
   "execution_count": 316,
   "metadata": {},
   "outputs": [],
   "source": [
    "# PAY ATTENTION, WE ARE IMPORTING SVR, WHICH IS FOR REGRESSION\n",
    "from sklearn.svm import SVR"
   ]
  },
  {
   "cell_type": "code",
   "execution_count": 317,
   "metadata": {},
   "outputs": [],
   "source": [
    "regressor = SVR(kernel = 'rbf') # using rbf kernel\n",
    "# also, we here call it a regressor, since it is a regression\n",
    "\n",
    "# in SVC = support vector classification, many name it as a classifier"
   ]
  },
  {
   "cell_type": "code",
   "execution_count": 318,
   "metadata": {},
   "outputs": [
    {
     "name": "stderr",
     "output_type": "stream",
     "text": [
      "C:\\Users\\Dev\\Anaconda3\\envs\\tf\\lib\\site-packages\\sklearn\\utils\\validation.py:63: DataConversionWarning: A column-vector y was passed when a 1d array was expected. Please change the shape of y to (n_samples, ), for example using ravel().\n",
      "  return f(*args, **kwargs)\n"
     ]
    },
    {
     "data": {
      "text/plain": [
       "SVR()"
      ]
     },
     "execution_count": 318,
     "metadata": {},
     "output_type": "execute_result"
    }
   ],
   "source": [
    "regressor.fit(X_train, y_train)"
   ]
  },
  {
   "cell_type": "code",
   "execution_count": 319,
   "metadata": {},
   "outputs": [],
   "source": [
    "predictions = regressor.predict(X_test)"
   ]
  },
  {
   "cell_type": "code",
   "execution_count": 320,
   "metadata": {},
   "outputs": [
    {
     "data": {
      "text/plain": [
       "0.3878555257452755"
      ]
     },
     "execution_count": 320,
     "metadata": {},
     "output_type": "execute_result"
    }
   ],
   "source": [
    "from sklearn.metrics import r2_score,mean_squared_error\n",
    "mse = mean_squared_error(y_test, predictions)\n",
    "rmse = np.sqrt(mse)\n",
    "rmse"
   ]
  },
  {
   "cell_type": "code",
   "execution_count": 321,
   "metadata": {},
   "outputs": [
    {
     "data": {
      "text/plain": [
       "0.25015479280352804"
      ]
     },
     "execution_count": 321,
     "metadata": {},
     "output_type": "execute_result"
    }
   ],
   "source": [
    "r2_score(y_test,predictions)"
   ]
  },
  {
   "cell_type": "code",
   "execution_count": 322,
   "metadata": {},
   "outputs": [
    {
     "data": {
      "image/png": "[encoded data removed]",
      "text/plain": [
       "<Figure size 432x288 with 1 Axes>"
      ]
     },
     "metadata": {
      "needs_background": "light"
     },
     "output_type": "display_data"
    }
   ],
   "source": [
    "# Visualising the Regression results\n",
    "plt.scatter(y_test, predictions, color = 'red')\n",
    "plt.plot(y_test, predictions, color = 'blue')\n",
    "plt.title('Predictions by Week of Year')\n",
    "plt.xlabel('Test Week')\n",
    "plt.ylabel('Predicted Week')\n",
    "plt.show()"
   ]
  },
  {
   "cell_type": "code",
   "execution_count": 326,
   "metadata": {},
   "outputs": [],
   "source": [
    "## Using Lotion"
   ]
  },
  {
   "cell_type": "code",
   "execution_count": 327,
   "metadata": {},
   "outputs": [
    {
     "name": "stderr",
     "output_type": "stream",
     "text": [
      "<ipython-input-327-ddc723731459>:1: FutureWarning: weekofyear and week have been deprecated, please use DatetimeIndex.isocalendar().week instead, which returns a Series.  To exactly reproduce the behavior of week and weekofyear and return an Index, you may call pd.Int64Index(idx.isocalendar().week)\n",
      "  lotion_df['Week'] = makeup_df.index.weekofyear\n"
     ]
    }
   ],
   "source": [
    "lotion_df['Week'] = makeup_df.index.weekofyear"
   ]
  },
  {
   "cell_type": "code",
   "execution_count": 328,
   "metadata": {},
   "outputs": [
    {
     "data": {
      "text/html": [
       "<div>\n",
       "<style scoped>\n",
       "    .dataframe tbody tr th:only-of-type {\n",
       "        vertical-align: middle;\n",
       "    }\n",
       "\n",
       "    .dataframe tbody tr th {\n",
       "        vertical-align: top;\n",
       "    }\n",
       "\n",
       "    .dataframe thead th {\n",
       "        text-align: right;\n",
       "    }\n",
       "</style>\n",
       "<table border=\"1\" class=\"dataframe\">\n",
       "  <thead>\n",
       "    <tr style=\"text-align: right;\">\n",
       "      <th>Date</th>\n",
       "      <th>Lotion</th>\n",
       "      <th>lotion_promo</th>\n",
       "      <th>Week</th>\n",
       "    </tr>\n",
       "  </thead>\n",
       "  <tbody>\n",
       "    <tr>\n",
       "      <th>2019-01-05</th>\n",
       "      <td>3227827</td>\n",
       "      <td>0</td>\n",
       "      <td>1</td>\n",
       "    </tr>\n",
       "    <tr>\n",
       "      <th>2019-01-12</th>\n",
       "      <td>3551875</td>\n",
       "      <td>0</td>\n",
       "      <td>2</td>\n",
       "    </tr>\n",
       "    <tr>\n",
       "      <th>2019-01-19</th>\n",
       "      <td>3435812</td>\n",
       "      <td>0</td>\n",
       "      <td>3</td>\n",
       "    </tr>\n",
       "    <tr>\n",
       "      <th>2019-01-26</th>\n",
       "      <td>3406859</td>\n",
       "      <td>0</td>\n",
       "      <td>4</td>\n",
       "    </tr>\n",
       "    <tr>\n",
       "      <th>2019-02-02</th>\n",
       "      <td>3754491</td>\n",
       "      <td>0</td>\n",
       "      <td>5</td>\n",
       "    </tr>\n",
       "  </tbody>\n",
       "</table>\n",
       "</div>"
      ],
      "text/plain": [
       "Date         Lotion  lotion_promo  Week\n",
       "2019-01-05  3227827             0     1\n",
       "2019-01-12  3551875             0     2\n",
       "2019-01-19  3435812             0     3\n",
       "2019-01-26  3406859             0     4\n",
       "2019-02-02  3754491             0     5"
      ]
     },
     "execution_count": 328,
     "metadata": {},
     "output_type": "execute_result"
    }
   ],
   "source": [
    "lotion_df.head()"
   ]
  },
  {
   "cell_type": "code",
   "execution_count": 329,
   "metadata": {},
   "outputs": [
    {
     "data": {
      "text/html": [
       "<div>\n",
       "<style scoped>\n",
       "    .dataframe tbody tr th:only-of-type {\n",
       "        vertical-align: middle;\n",
       "    }\n",
       "\n",
       "    .dataframe tbody tr th {\n",
       "        vertical-align: top;\n",
       "    }\n",
       "\n",
       "    .dataframe thead th {\n",
       "        text-align: right;\n",
       "    }\n",
       "</style>\n",
       "<table border=\"1\" class=\"dataframe\">\n",
       "  <thead>\n",
       "    <tr style=\"text-align: right;\">\n",
       "      <th>Date</th>\n",
       "      <th>Lotion</th>\n",
       "      <th>Week</th>\n",
       "    </tr>\n",
       "  </thead>\n",
       "  <tbody>\n",
       "    <tr>\n",
       "      <th>2019-01-05</th>\n",
       "      <td>3227827</td>\n",
       "      <td>1</td>\n",
       "    </tr>\n",
       "    <tr>\n",
       "      <th>2019-01-12</th>\n",
       "      <td>3551875</td>\n",
       "      <td>2</td>\n",
       "    </tr>\n",
       "    <tr>\n",
       "      <th>2019-01-19</th>\n",
       "      <td>3435812</td>\n",
       "      <td>3</td>\n",
       "    </tr>\n",
       "    <tr>\n",
       "      <th>2019-01-26</th>\n",
       "      <td>3406859</td>\n",
       "      <td>4</td>\n",
       "    </tr>\n",
       "    <tr>\n",
       "      <th>2019-02-02</th>\n",
       "      <td>3754491</td>\n",
       "      <td>5</td>\n",
       "    </tr>\n",
       "    <tr>\n",
       "      <th>...</th>\n",
       "      <td>...</td>\n",
       "      <td>...</td>\n",
       "    </tr>\n",
       "    <tr>\n",
       "      <th>2020-08-01</th>\n",
       "      <td>2693439</td>\n",
       "      <td>31</td>\n",
       "    </tr>\n",
       "    <tr>\n",
       "      <th>2020-08-08</th>\n",
       "      <td>2804635</td>\n",
       "      <td>32</td>\n",
       "    </tr>\n",
       "    <tr>\n",
       "      <th>2020-08-15</th>\n",
       "      <td>2944624</td>\n",
       "      <td>33</td>\n",
       "    </tr>\n",
       "    <tr>\n",
       "      <th>2020-08-22</th>\n",
       "      <td>2894137</td>\n",
       "      <td>34</td>\n",
       "    </tr>\n",
       "    <tr>\n",
       "      <th>2020-08-29</th>\n",
       "      <td>2801034</td>\n",
       "      <td>35</td>\n",
       "    </tr>\n",
       "  </tbody>\n",
       "</table>\n",
       "<p>87 rows × 2 columns</p>\n",
       "</div>"
      ],
      "text/plain": [
       "Date         Lotion  Week\n",
       "2019-01-05  3227827     1\n",
       "2019-01-12  3551875     2\n",
       "2019-01-19  3435812     3\n",
       "2019-01-26  3406859     4\n",
       "2019-02-02  3754491     5\n",
       "...             ...   ...\n",
       "2020-08-01  2693439    31\n",
       "2020-08-08  2804635    32\n",
       "2020-08-15  2944624    33\n",
       "2020-08-22  2894137    34\n",
       "2020-08-29  2801034    35\n",
       "\n",
       "[87 rows x 2 columns]"
      ]
     },
     "execution_count": 329,
     "metadata": {},
     "output_type": "execute_result"
    }
   ],
   "source": [
    "lotion_df.drop(columns=\"lotion_promo\")"
   ]
  },
  {
   "cell_type": "code",
   "execution_count": 347,
   "metadata": {},
   "outputs": [],
   "source": [
    "X = lotion_df.iloc[:,0].values     \n",
    "y = lotion_df.iloc[:,1].values        "
   ]
  },
  {
   "cell_type": "code",
   "execution_count": 348,
   "metadata": {},
   "outputs": [],
   "source": [
    "# split the dataset into test set and train set\n",
    "from sklearn.model_selection import train_test_split\n",
    "X_train, X_test, y_train, y_test = train_test_split(X,y, test_size=0.2, random_state=1)"
   ]
  },
  {
   "cell_type": "code",
   "execution_count": 349,
   "metadata": {},
   "outputs": [
    {
     "data": {
      "text/plain": [
       "array([3323107, 3876170, 2853093])"
      ]
     },
     "execution_count": 349,
     "metadata": {},
     "output_type": "execute_result"
    }
   ],
   "source": [
    "X_train[:3]"
   ]
  },
  {
   "cell_type": "code",
   "execution_count": 350,
   "metadata": {},
   "outputs": [],
   "source": [
    "X_train= X_train.reshape(-1,1)\n",
    "y_train= y_train.reshape(-1,1)\n",
    "X_test = X_test.reshape(-1,1)"
   ]
  },
  {
   "cell_type": "code",
   "execution_count": 351,
   "metadata": {},
   "outputs": [],
   "source": [
    "from sklearn.preprocessing import StandardScaler\n",
    "sc_X = StandardScaler()\n",
    "X_train = sc_X.fit_transform(X_train)\n",
    "X_test = sc_X.transform(X_test)"
   ]
  },
  {
   "cell_type": "code",
   "execution_count": 352,
   "metadata": {},
   "outputs": [],
   "source": [
    "from sklearn.svm import SVR\n"
   ]
  },
  {
   "cell_type": "code",
   "execution_count": 353,
   "metadata": {},
   "outputs": [],
   "source": [
    "regressor = SVR(kernel = 'rbf')"
   ]
  },
  {
   "cell_type": "code",
   "execution_count": 354,
   "metadata": {},
   "outputs": [
    {
     "name": "stderr",
     "output_type": "stream",
     "text": [
      "C:\\Users\\Dev\\Anaconda3\\envs\\tf\\lib\\site-packages\\sklearn\\utils\\validation.py:63: DataConversionWarning: A column-vector y was passed when a 1d array was expected. Please change the shape of y to (n_samples, ), for example using ravel().\n",
      "  return f(*args, **kwargs)\n"
     ]
    },
    {
     "data": {
      "text/plain": [
       "SVR()"
      ]
     },
     "execution_count": 354,
     "metadata": {},
     "output_type": "execute_result"
    }
   ],
   "source": [
    "regressor.fit(X_train, y_train)"
   ]
  },
  {
   "cell_type": "code",
   "execution_count": 355,
   "metadata": {},
   "outputs": [],
   "source": [
    "predictions = regressor.predict(X_test)"
   ]
  },
  {
   "cell_type": "code",
   "execution_count": 356,
   "metadata": {},
   "outputs": [
    {
     "data": {
      "text/plain": [
       "0.5666486009949899"
      ]
     },
     "execution_count": 356,
     "metadata": {},
     "output_type": "execute_result"
    }
   ],
   "source": [
    "from sklearn.metrics import r2_score,mean_squared_error\n",
    "mse = mean_squared_error(y_test, predictions)\n",
    "rmse = np.sqrt(mse)\n",
    "rmse"
   ]
  },
  {
   "cell_type": "code",
   "execution_count": 357,
   "metadata": {},
   "outputs": [
    {
     "data": {
      "text/plain": [
       "-0.3004170798887962"
      ]
     },
     "execution_count": 357,
     "metadata": {},
     "output_type": "execute_result"
    }
   ],
   "source": [
    "r2_score(y_test,predictions)"
   ]
  },
  {
   "cell_type": "code",
   "execution_count": 358,
   "metadata": {},
   "outputs": [
    {
     "data": {
      "image/png": "[encoded data removed]",
      "text/plain": [
       "<Figure size 432x288 with 1 Axes>"
      ]
     },
     "metadata": {
      "needs_background": "light"
     },
     "output_type": "display_data"
    }
   ],
   "source": [
    "# Visualising the Regression results\n",
    "plt.scatter(y_test, predictions, color = 'red')\n",
    "plt.plot(y_test, predictions, color = 'blue')\n",
    "plt.title('Predictions by Week of Year')\n",
    "plt.xlabel('Test Week')\n",
    "plt.ylabel('Predicted Week')\n",
    "plt.show()"
   ]
  },
  {
   "cell_type": "code",
   "execution_count": null,
   "metadata": {},
   "outputs": [],
   "source": []
  },
  {
   "cell_type": "code",
   "execution_count": null,
   "metadata": {},
   "outputs": [],
   "source": []
  },
  {
   "cell_type": "code",
   "execution_count": null,
   "metadata": {},
   "outputs": [],
   "source": []
  },
  {
   "cell_type": "code",
   "execution_count": 198,
   "metadata": {},
   "outputs": [
    {
     "data": {
      "image/png": "[encoded data removed]",
      "text/plain": [
       "<Figure size 432x288 with 1 Axes>"
      ]
     },
     "metadata": {
      "needs_background": "light"
     },
     "output_type": "display_data"
    }
   ],
   "source": [
    "plt.plot(acne_df[\"Acne\"])\n",
    "plt.show()"
   ]
  },
  {
   "cell_type": "code",
   "execution_count": null,
   "metadata": {},
   "outputs": [],
   "source": [
    "\n"
   ]
  },
  {
   "cell_type": "code",
   "execution_count": null,
   "metadata": {},
   "outputs": [],
   "source": []
  },
  {
   "cell_type": "code",
   "execution_count": null,
   "metadata": {},
   "outputs": [],
   "source": []
  },
  {
   "cell_type": "code",
   "execution_count": null,
   "metadata": {},
   "outputs": [],
   "source": []
  }
 ],
 "metadata": {
  "kernelspec": {
   "display_name": "Python 3",
   "language": "python",
   "name": "python3"
  },
  "language_info": {
   "codemirror_mode": {
    "name": "ipython",
    "version": 3
   },
   "file_extension": ".py",
   "mimetype": "text/x-python",
   "name": "python",
   "nbconvert_exporter": "python",
   "pygments_lexer": "ipython3",
   "version": "3.9.5"
  }
 },
 "nbformat": 4,
 "nbformat_minor": 4
}
